{
  "cells": [
    {
      "cell_type": "code",
      "execution_count": null,
      "metadata": {
        "id": "kX9LVlFiWYIC"
      },
      "outputs": [],
      "source": [
        "import pandas as pd\n",
        "import matplotlib.pyplot as plt\n",
        "import numpy as np\n",
        "import seaborn as sns\n",
        "import math\n",
        "from numpy.linalg import eig, norm\n",
        "from tensorflow.keras.models import Sequential\n",
        "from tensorflow.keras.layers import Dense\n",
        "from sklearn.model_selection import train_test_split\n",
        "from tensorflow.keras.utils import to_categorical"
      ]
    },
    {
      "cell_type": "code",
      "execution_count": null,
      "metadata": {
        "id": "HJQ_dww8cUPf"
      },
      "outputs": [],
      "source": [
        "# fileName = 'cifar-10-python.tar.gz'\n",
        "\n",
        "\n",
        "# #Function to unzip the data file\n",
        "# import pickle\n",
        "\n",
        "# def unpickle(file):\n",
        "#     with open(file, 'rb') as fo:\n",
        "#         dict = pickle.load(fo, encoding='bytes')\n",
        "#     return dict\n",
        "\n",
        "\n",
        "# import gzip\n",
        "# import shutil\n",
        "# with gzip.open(fileName, 'rb') as f_in:\n",
        "#     with open('file.txt', 'wb') as f_out:\n",
        "#         shutil.copyfileobj(f_in, f_out)\n",
        "\n",
        "# files = unpickle(fileName)"
      ]
    },
    {
      "cell_type": "code",
      "execution_count": null,
      "metadata": {
        "colab": {
          "base_uri": "https://localhost:8080/"
        },
        "id": "gTc6DBgyzH44",
        "outputId": "aade2ea8-1bc4-4046-fca8-3e2e8d1c900f"
      },
      "outputs": [
        {
          "name": "stdout",
          "output_type": "stream",
          "text": [
            "Downloading data from https://www.cs.toronto.edu/~kriz/cifar-10-python.tar.gz\n",
            "170500096/170498071 [==============================] - 2s 0us/step\n",
            "170508288/170498071 [==============================] - 2s 0us/step\n"
          ]
        }
      ],
      "source": [
        "# Dataset directly downloaded through TensorFlow\n",
        "\n",
        "from tensorflow.keras.datasets import cifar10\n",
        "(X_train, y_train), (X_test, y_test) = cifar10.load_data()"
      ]
    },
    {
      "cell_type": "code",
      "execution_count": null,
      "metadata": {
        "id": "Q5q0daaR_T4d"
      },
      "outputs": [],
      "source": [
        "(X_train_orig, y_train_orig), (X_test_orig, y_test_orig) = cifar10.load_data()"
      ]
    },
    {
      "cell_type": "code",
      "execution_count": null,
      "metadata": {
        "colab": {
          "base_uri": "https://localhost:8080/",
          "height": 266
        },
        "id": "gW2rgj8BPeF4",
        "outputId": "e27aac2d-efc5-4484-d6a2-321251087d73"
      },
      "outputs": [
        {
          "data": {
            "image/png": "[encoded data removed]",
            "text/plain": [
              "<Figure size 432x288 with 1 Axes>"
            ]
          },
          "metadata": {},
          "output_type": "display_data"
        }
      ],
      "source": [
        "#Example of what the data images look like\n",
        "#Belongs to class 6 - Frog\n",
        "plt.imshow(X_train[0])\n",
        "plt.show()"
      ]
    },
    {
      "cell_type": "code",
      "execution_count": null,
      "metadata": {
        "colab": {
          "base_uri": "https://localhost:8080/"
        },
        "id": "Utx0wYAw4myN",
        "outputId": "9c9a15d9-b076-4676-ca4d-1c5b941b1795"
      },
      "outputs": [
        {
          "data": {
            "text/plain": [
              "array([0, 1, 2, 3, 4, 5, 6, 7, 8, 9], dtype=uint8)"
            ]
          },
          "execution_count": 6,
          "metadata": {},
          "output_type": "execute_result"
        }
      ],
      "source": [
        "np.unique(y_train)"
      ]
    },
    {
      "cell_type": "code",
      "execution_count": null,
      "metadata": {
        "colab": {
          "base_uri": "https://localhost:8080/"
        },
        "id": "1oDEOGQRIBnK",
        "outputId": "10c6a58a-3eec-4683-9a03-f216d20b61b9"
      },
      "outputs": [
        {
          "data": {
            "text/plain": [
              "(50000, 32, 32, 3)"
            ]
          },
          "execution_count": 7,
          "metadata": {},
          "output_type": "execute_result"
        }
      ],
      "source": [
        "X_train.shape"
      ]
    },
    {
      "cell_type": "markdown",
      "metadata": {
        "id": "v6o-JN1IWzqj"
      },
      "source": [
        "#Q0"
      ]
    },
    {
      "cell_type": "code",
      "execution_count": null,
      "metadata": {
        "id": "FK1VnRTEY2JX"
      },
      "outputs": [],
      "source": [
        ""
      ]
    },
    {
      "cell_type": "markdown",
      "metadata": {
        "id": "_nUo_ExlW23P"
      },
      "source": [
        "#Q1"
      ]
    },
    {
      "cell_type": "code",
      "execution_count": null,
      "metadata": {
        "colab": {
          "base_uri": "https://localhost:8080/"
        },
        "id": "tiU13aWt5DVR",
        "outputId": "961646ad-7335-4ad7-9285-09c732a26ddc"
      },
      "outputs": [
        {
          "data": {
            "text/plain": [
              "array([[0., 0., 0., 0., 0., 0., 1., 0., 0., 0.],\n",
              "       [0., 0., 0., 0., 0., 0., 0., 0., 0., 1.],\n",
              "       [0., 0., 0., 0., 0., 0., 0., 0., 0., 1.],\n",
              "       [0., 0., 0., 0., 1., 0., 0., 0., 0., 0.],\n",
              "       [0., 1., 0., 0., 0., 0., 0., 0., 0., 0.]])"
            ]
          },
          "execution_count": 8,
          "metadata": {},
          "output_type": "execute_result"
        }
      ],
      "source": [
        "# One-hot encoding of y-values\n",
        "#This makes them categorical\n",
        "from sklearn.preprocessing import OneHotEncoder\n",
        "\n",
        "ohe = OneHotEncoder(sparse=False)\n",
        "ohe.fit(y_train)\n",
        "\n",
        "y_train_ohe = ohe.transform(y_train)\n",
        "y_test_ohe = ohe.transform(y_test)\n",
        "\n",
        "# Checking the first 5 values to see if it encoded correctly\n",
        "y_train_ohe[0:5]"
      ]
    },
    {
      "cell_type": "code",
      "execution_count": null,
      "metadata": {
        "colab": {
          "base_uri": "https://localhost:8080/"
        },
        "id": "0qBn1G3O_9IE",
        "outputId": "65230099-750c-4f83-8dd3-e680d252f1fe"
      },
      "outputs": [
        {
          "data": {
            "text/plain": [
              "array([[6],\n",
              "       [9],\n",
              "       [9],\n",
              "       [4],\n",
              "       [1]], dtype=uint8)"
            ]
          },
          "execution_count": 9,
          "metadata": {},
          "output_type": "execute_result"
        }
      ],
      "source": [
        "# Encoded values match with original y_train\n",
        "y_train[0:5]"
      ]
    },
    {
      "cell_type": "code",
      "execution_count": null,
      "metadata": {
        "id": "l7rfSZSo_e2N"
      },
      "outputs": [],
      "source": [
        "#Encoded values are trueOUTn\n",
        "trueOUT_train = y_train_ohe\n",
        "trueOUT_test = y_test_ohe"
      ]
    },
    {
      "cell_type": "code",
      "execution_count": null,
      "metadata": {
        "colab": {
          "base_uri": "https://localhost:8080/"
        },
        "id": "Gqxve6d6s20F",
        "outputId": "01b5eaa4-93f4-4bf5-aae5-8349ca5e0dbf"
      },
      "outputs": [
        {
          "data": {
            "text/plain": [
              "3072"
            ]
          },
          "execution_count": 11,
          "metadata": {},
          "output_type": "execute_result"
        }
      ],
      "source": [
        "featuresLength = X_train.shape[1]*X_train.shape[2]*3\n",
        "featuresLength"
      ]
    },
    {
      "cell_type": "code",
      "execution_count": null,
      "metadata": {
        "colab": {
          "base_uri": "https://localhost:8080/"
        },
        "id": "_pgIdYHuNVwK",
        "outputId": "e8317fb9-d517-4f59-8f77-3c9a1c339641"
      },
      "outputs": [
        {
          "data": {
            "text/plain": [
              "array([[[ 59,  62,  63],\n",
              "        [ 43,  46,  45],\n",
              "        [ 50,  48,  43],\n",
              "        ...,\n",
              "        [158, 132, 108],\n",
              "        [152, 125, 102],\n",
              "        [148, 124, 103]],\n",
              "\n",
              "       [[ 16,  20,  20],\n",
              "        [  0,   0,   0],\n",
              "        [ 18,   8,   0],\n",
              "        ...,\n",
              "        [123,  88,  55],\n",
              "        [119,  83,  50],\n",
              "        [122,  87,  57]],\n",
              "\n",
              "       [[ 25,  24,  21],\n",
              "        [ 16,   7,   0],\n",
              "        [ 49,  27,   8],\n",
              "        ...,\n",
              "        [118,  84,  50],\n",
              "        [120,  84,  50],\n",
              "        [109,  73,  42]],\n",
              "\n",
              "       ...,\n",
              "\n",
              "       [[208, 170,  96],\n",
              "        [201, 153,  34],\n",
              "        [198, 161,  26],\n",
              "        ...,\n",
              "        [160, 133,  70],\n",
              "        [ 56,  31,   7],\n",
              "        [ 53,  34,  20]],\n",
              "\n",
              "       [[180, 139,  96],\n",
              "        [173, 123,  42],\n",
              "        [186, 144,  30],\n",
              "        ...,\n",
              "        [184, 148,  94],\n",
              "        [ 97,  62,  34],\n",
              "        [ 83,  53,  34]],\n",
              "\n",
              "       [[177, 144, 116],\n",
              "        [168, 129,  94],\n",
              "        [179, 142,  87],\n",
              "        ...,\n",
              "        [216, 184, 140],\n",
              "        [151, 118,  84],\n",
              "        [123,  92,  72]]], dtype=uint8)"
            ]
          },
          "execution_count": 12,
          "metadata": {},
          "output_type": "execute_result"
        }
      ],
      "source": [
        "# Example of observation before flattening\n",
        "X_train[0]"
      ]
    },
    {
      "cell_type": "code",
      "execution_count": null,
      "metadata": {
        "id": "7ySdSkjFsn8Y"
      },
      "outputs": [],
      "source": [
        "#Reshaping the data\n",
        "X_train = X_train.reshape(X_train.shape[0], featuresLength)\n",
        "X_test = X_test.reshape(X_test.shape[0], featuresLength)"
      ]
    },
    {
      "cell_type": "code",
      "execution_count": null,
      "metadata": {
        "colab": {
          "base_uri": "https://localhost:8080/"
        },
        "id": "3YCqjMSoDn5X",
        "outputId": "8a49a9c2-d71e-45da-ad10-ee39fd1908a0"
      },
      "outputs": [
        {
          "data": {
            "text/plain": [
              "array([ 59,  62,  63, ..., 123,  92,  72], dtype=uint8)"
            ]
          },
          "execution_count": 14,
          "metadata": {},
          "output_type": "execute_result"
        }
      ],
      "source": [
        "# Same observation after flattening\n",
        "X_train[0]"
      ]
    },
    {
      "cell_type": "code",
      "execution_count": null,
      "metadata": {
        "colab": {
          "base_uri": "https://localhost:8080/"
        },
        "id": "zn0ClmKw9JZX",
        "outputId": "5d83c82b-d09b-4f6a-8eec-e4644cda50ad"
      },
      "outputs": [
        {
          "data": {
            "text/plain": [
              "(50000, 3072)"
            ]
          },
          "execution_count": 15,
          "metadata": {},
          "output_type": "execute_result"
        }
      ],
      "source": [
        "X_train.shape"
      ]
    },
    {
      "cell_type": "code",
      "execution_count": null,
      "metadata": {
        "id": "ajVxbfajyMPi"
      },
      "outputs": [],
      "source": [
        "# # change the the type of the data set\n",
        "# X_train = X_train.astype('float32')\n",
        "# X_test = X_test.astype('float32')\n",
        "# X_train /= 255\n",
        "# X_test /= 255"
      ]
    },
    {
      "cell_type": "code",
      "execution_count": null,
      "metadata": {
        "id": "kczhLbwN6dub"
      },
      "outputs": [],
      "source": [
        "# # Convert target classes to categorical ones\n",
        "# Y_train = to_categorical(Y_train, num_classes)\n",
        "# Y_test = to_categorical(Y_test, num_classes)"
      ]
    },
    {
      "cell_type": "code",
      "execution_count": null,
      "metadata": {
        "id": "mFaUXHYjDd4c"
      },
      "outputs": [],
      "source": [
        "from tensorflow.keras.layers import Activation\n",
        "import tensorflow as tf"
      ]
    },
    {
      "cell_type": "code",
      "execution_count": null,
      "metadata": {
        "id": "DzWLRl2xY2wG"
      },
      "outputs": [],
      "source": [
        "#make MLP\n",
        "h= featuresLength/2 #h=k or h=k/2\n",
        "\n",
        "input = tf.keras.Input(shape= featuresLength)\n",
        "hidden1 = Dense(h, activation  = 'relu')(input)\n",
        "output = Dense(10, activation = 'softmax')(hidden1)\n",
        "\n",
        "MLP1 = tf.keras.Model(input, output)\n",
        "Hidden = tf.keras.Model(input, hidden1)"
      ]
    },
    {
      "cell_type": "code",
      "execution_count": null,
      "metadata": {
        "colab": {
          "base_uri": "https://localhost:8080/"
        },
        "id": "r4TGR7iiuvpb",
        "outputId": "e1c0b960-5e7e-46b5-89c7-485829e4bd61"
      },
      "outputs": [
        {
          "data": {
            "text/plain": [
              "1536.0"
            ]
          },
          "execution_count": 20,
          "metadata": {},
          "output_type": "execute_result"
        }
      ],
      "source": [
        "featuresLength/2"
      ]
    },
    {
      "cell_type": "code",
      "execution_count": null,
      "metadata": {
        "id": "3bfaV8kLK67u"
      },
      "outputs": [],
      "source": [
        "# #make MLP\n",
        "# #h= featuresLength/2 #h=k or h=k/2\n",
        "\n",
        "# input = tf.keras.Input(shape= featuresLength)\n",
        "# hidden1 = Dense(X_train.shape[0]/50, activation  = 'relu')(input)\n",
        "# output = Dense(10, activation = 'softmax')(hidden1)\n",
        "\n",
        "# MLP1 = tf.keras.Model(input, output)\n",
        "# Hidden = tf.keras.Model(input, hidden1)"
      ]
    },
    {
      "cell_type": "code",
      "execution_count": null,
      "metadata": {
        "colab": {
          "base_uri": "https://localhost:8080/"
        },
        "id": "GJZU2Z77JVyO",
        "outputId": "0dc836e9-feda-49d1-e9c3-413d0df36846"
      },
      "outputs": [
        {
          "data": {
            "text/plain": [
              "1000"
            ]
          },
          "execution_count": 22,
          "metadata": {},
          "output_type": "execute_result"
        }
      ],
      "source": [
        "batch = int(X_train.shape[0]/50)\n",
        "batch"
      ]
    },
    {
      "cell_type": "code",
      "execution_count": null,
      "metadata": {
        "colab": {
          "base_uri": "https://localhost:8080/"
        },
        "id": "H-7840dFFIxV",
        "outputId": "dfbb381f-aac9-4265-d576-f2c55571c52f"
      },
      "outputs": [
        {
          "name": "stdout",
          "output_type": "stream",
          "text": [
            "Epoch 1/10\n",
            "50/50 [==============================] - 20s 391ms/step - loss: 1226.5225 - accuracy: 0.1471 - val_loss: 23.4529 - val_accuracy: 0.2109\n",
            "Epoch 2/10\n",
            "50/50 [==============================] - 19s 384ms/step - loss: 9.6717 - accuracy: 0.2335 - val_loss: 5.8419 - val_accuracy: 0.2584\n",
            "Epoch 3/10\n",
            "50/50 [==============================] - 19s 386ms/step - loss: 5.2417 - accuracy: 0.2453 - val_loss: 5.2660 - val_accuracy: 0.2261\n",
            "Epoch 4/10\n",
            "50/50 [==============================] - 21s 415ms/step - loss: 8.4196 - accuracy: 0.2005 - val_loss: 7.5233 - val_accuracy: 0.1931\n",
            "Epoch 5/10\n",
            "50/50 [==============================] - 19s 384ms/step - loss: 4.1093 - accuracy: 0.2447 - val_loss: 3.2335 - val_accuracy: 0.2458\n",
            "Epoch 6/10\n",
            "50/50 [==============================] - 19s 387ms/step - loss: 2.9350 - accuracy: 0.1893 - val_loss: 2.2957 - val_accuracy: 0.1237\n",
            "Epoch 7/10\n",
            "50/50 [==============================] - 21s 419ms/step - loss: 2.2881 - accuracy: 0.1348 - val_loss: 2.2877 - val_accuracy: 0.1368\n",
            "Epoch 8/10\n",
            "50/50 [==============================] - 19s 387ms/step - loss: 2.2823 - accuracy: 0.1344 - val_loss: 2.2814 - val_accuracy: 0.1337\n",
            "Epoch 9/10\n",
            "50/50 [==============================] - 20s 408ms/step - loss: 2.2749 - accuracy: 0.1370 - val_loss: 2.2779 - val_accuracy: 0.1380\n",
            "Epoch 10/10\n",
            "50/50 [==============================] - 20s 407ms/step - loss: 2.2707 - accuracy: 0.1385 - val_loss: 2.2779 - val_accuracy: 0.1295\n"
          ]
        }
      ],
      "source": [
        "\n",
        "MLP1.compile(loss = 'CategoricalCrossentropy', optimizer = 'adam', metrics = ['accuracy'])\n",
        "history = MLP1.fit(X_train, trueOUT_train, epochs=10, batch_size = batch, verbose = 1, validation_data = (X_test, trueOUT_test))"
      ]
    },
    {
      "cell_type": "code",
      "execution_count": null,
      "metadata": {
        "id": "2a3ewtc9sON1"
      },
      "outputs": [],
      "source": [
        "#MLP1.predict_proba()"
      ]
    },
    {
      "cell_type": "code",
      "execution_count": null,
      "metadata": {
        "colab": {
          "base_uri": "https://localhost:8080/"
        },
        "id": "RNttp3mOxckY",
        "outputId": "3b674407-6350-4b76-a9e0-4400445028d8"
      },
      "outputs": [
        {
          "data": {
            "text/plain": [
              "{'accuracy': [0.14706000685691833,\n",
              "  0.23350000381469727,\n",
              "  0.24526000022888184,\n",
              "  0.20047999918460846,\n",
              "  0.24473999440670013,\n",
              "  0.18926000595092773,\n",
              "  0.13481999933719635,\n",
              "  0.13444000482559204,\n",
              "  0.13697999715805054,\n",
              "  0.13845999538898468],\n",
              " 'loss': [1226.5224609375,\n",
              "  9.671655654907227,\n",
              "  5.241741180419922,\n",
              "  8.419612884521484,\n",
              "  4.109254837036133,\n",
              "  2.9350290298461914,\n",
              "  2.288053512573242,\n",
              "  2.2823288440704346,\n",
              "  2.2749037742614746,\n",
              "  2.270716667175293],\n",
              " 'val_accuracy': [0.21089999377727509,\n",
              "  0.25839999318122864,\n",
              "  0.22609999775886536,\n",
              "  0.1931000053882599,\n",
              "  0.24580000340938568,\n",
              "  0.12370000034570694,\n",
              "  0.13680000603199005,\n",
              "  0.13369999825954437,\n",
              "  0.1379999965429306,\n",
              "  0.12950000166893005],\n",
              " 'val_loss': [23.452878952026367,\n",
              "  5.841935157775879,\n",
              "  5.265976905822754,\n",
              "  7.523252964019775,\n",
              "  3.233527421951294,\n",
              "  2.2957499027252197,\n",
              "  2.28770112991333,\n",
              "  2.2813620567321777,\n",
              "  2.2779393196105957,\n",
              "  2.2779033184051514]}"
            ]
          },
          "execution_count": 25,
          "metadata": {},
          "output_type": "execute_result"
        }
      ],
      "source": [
        "history.history"
      ]
    },
    {
      "cell_type": "code",
      "execution_count": null,
      "metadata": {
        "id": "2gZyTc23-83t"
      },
      "outputs": [],
      "source": [
        "#Loss Function\n",
        "# def Loss(m):\n",
        "#   return history.history['loss'][m]\n",
        "\n",
        "# history.history['loss']"
      ]
    },
    {
      "cell_type": "code",
      "execution_count": null,
      "metadata": {
        "colab": {
          "base_uri": "https://localhost:8080/",
          "height": 590
        },
        "id": "j2hEQcf48F0F",
        "outputId": "4c842ef0-33c8-4ade-a941-cc2129d5fcb1"
      },
      "outputs": [
        {
          "name": "stdout",
          "output_type": "stream",
          "text": [
            "dict_keys(['loss', 'accuracy', 'val_loss', 'val_accuracy'])\n"
          ]
        },
        {
          "data": {
            "image/png": "[encoded data removed]",
            "text/plain": [
              "<Figure size 432x288 with 1 Axes>"
            ]
          },
          "metadata": {},
          "output_type": "display_data"
        },
        {
          "data": {
            "image/png": "[encoded data removed]",
            "text/plain": [
              "<Figure size 432x288 with 1 Axes>"
            ]
          },
          "metadata": {},
          "output_type": "display_data"
        }
      ],
      "source": [
        "print(history.history.keys())\n",
        "\n",
        "#Acuracy graph not required?\n",
        "plt.plot(history.history['accuracy'])\n",
        "plt.plot(history.history['val_accuracy'])\n",
        "plt.title('model accuracy')\n",
        "plt.ylabel('accuracy')\n",
        "plt.xlabel('epoch')\n",
        "plt.legend(['train', 'test'], loc='upper left')\n",
        "plt.show()\n",
        "\n",
        "plt.plot(history.history['loss'])\n",
        "plt.plot(history.history['val_loss'])\n",
        "plt.title('loss function')\n",
        "plt.ylabel('loss function')\n",
        "plt.xlabel('epoch')\n",
        "plt.legend(['train', 'test'], loc='upper left')\n",
        "plt.show()"
      ]
    },
    {
      "cell_type": "code",
      "execution_count": null,
      "metadata": {
        "colab": {
          "base_uri": "https://localhost:8080/"
        },
        "id": "qI3mpz2qrup-",
        "outputId": "88559859-84d6-4b03-b5b3-1230a514566d"
      },
      "outputs": [
        {
          "data": {
            "text/plain": [
              "[1226.5224609375,\n",
              " 9.671655654907227,\n",
              " 5.241741180419922,\n",
              " 8.419612884521484,\n",
              " 4.109254837036133,\n",
              " 2.9350290298461914,\n",
              " 2.288053512573242,\n",
              " 2.2823288440704346,\n",
              " 2.2749037742614746,\n",
              " 2.270716667175293]"
            ]
          },
          "execution_count": 28,
          "metadata": {},
          "output_type": "execute_result"
        }
      ],
      "source": [
        "#Averaged crossentropy for each epoch\n",
        "history.history['loss']"
      ]
    },
    {
      "cell_type": "markdown",
      "metadata": {
        "id": "bZlGmcJlW4dR"
      },
      "source": [
        "#Q2"
      ]
    },
    {
      "cell_type": "code",
      "execution_count": null,
      "metadata": {
        "colab": {
          "base_uri": "https://localhost:8080/"
        },
        "id": "jiWUb69Y03a4",
        "outputId": "4f7fca59-93ad-4769-e24c-caf8d8766d1b"
      },
      "outputs": [
        {
          "data": {
            "text/plain": [
              "array([[ 59,  62,  63, ..., 123,  92,  72],\n",
              "       [154, 177, 187, ..., 143, 133, 144],\n",
              "       [255, 255, 255, ...,  80,  86,  84],\n",
              "       ...,\n",
              "       [ 35, 178, 235, ...,  12,  31,  50],\n",
              "       [189, 211, 240, ..., 195, 190, 171],\n",
              "       [229, 229, 239, ..., 163, 163, 161]], dtype=uint8)"
            ]
          },
          "execution_count": 29,
          "metadata": {},
          "output_type": "execute_result"
        }
      ],
      "source": [
        "X_train"
      ]
    },
    {
      "cell_type": "code",
      "execution_count": null,
      "metadata": {
        "colab": {
          "base_uri": "https://localhost:8080/"
        },
        "id": "fUnkeO2g05Ok",
        "outputId": "13dab96e-3555-405a-e8e9-358fc6f65eb5"
      },
      "outputs": [
        {
          "data": {
            "text/plain": [
              "array([[158, 112,  49, ...,  21,  67, 110],\n",
              "       [235, 235, 235, ..., 186, 200, 199],\n",
              "       [158, 190, 222, ...,   7,   8,   7],\n",
              "       ...,\n",
              "       [ 20,  15,  12, ...,  25,  20,  47],\n",
              "       [ 25,  40,  12, ...,  92, 120,  80],\n",
              "       [ 73,  78,  75, ...,  27,  26,  26]], dtype=uint8)"
            ]
          },
          "execution_count": 30,
          "metadata": {},
          "output_type": "execute_result"
        }
      ],
      "source": [
        "X_test"
      ]
    },
    {
      "cell_type": "code",
      "execution_count": null,
      "metadata": {
        "colab": {
          "base_uri": "https://localhost:8080/",
          "height": 488
        },
        "id": "qGObn75NyNPP",
        "outputId": "ace606d1-c800-4047-99dd-a6e6f85a15b8"
      },
      "outputs": [
        {
          "data": {
            "text/html": [
              "\n",
              "  <div id=\"df-dd297f83-a29f-4ad8-a4ab-03edf93dfe0e\">\n",
              "    <div class=\"colab-df-container\">\n",
              "      <div>\n",
              "<style scoped>\n",
              "    .dataframe tbody tr th:only-of-type {\n",
              "        vertical-align: middle;\n",
              "    }\n",
              "\n",
              "    .dataframe tbody tr th {\n",
              "        vertical-align: top;\n",
              "    }\n",
              "\n",
              "    .dataframe thead th {\n",
              "        text-align: right;\n",
              "    }\n",
              "</style>\n",
              "<table border=\"1\" class=\"dataframe\">\n",
              "  <thead>\n",
              "    <tr style=\"text-align: right;\">\n",
              "      <th></th>\n",
              "      <th>0</th>\n",
              "      <th>1</th>\n",
              "      <th>2</th>\n",
              "      <th>3</th>\n",
              "      <th>4</th>\n",
              "      <th>5</th>\n",
              "      <th>6</th>\n",
              "      <th>7</th>\n",
              "      <th>8</th>\n",
              "      <th>9</th>\n",
              "      <th>10</th>\n",
              "      <th>11</th>\n",
              "      <th>12</th>\n",
              "      <th>13</th>\n",
              "      <th>14</th>\n",
              "      <th>15</th>\n",
              "      <th>16</th>\n",
              "      <th>17</th>\n",
              "      <th>18</th>\n",
              "      <th>19</th>\n",
              "      <th>20</th>\n",
              "      <th>21</th>\n",
              "      <th>22</th>\n",
              "      <th>23</th>\n",
              "      <th>24</th>\n",
              "      <th>25</th>\n",
              "      <th>26</th>\n",
              "      <th>27</th>\n",
              "      <th>28</th>\n",
              "      <th>29</th>\n",
              "      <th>30</th>\n",
              "      <th>31</th>\n",
              "      <th>32</th>\n",
              "      <th>33</th>\n",
              "      <th>34</th>\n",
              "      <th>35</th>\n",
              "      <th>36</th>\n",
              "      <th>37</th>\n",
              "      <th>38</th>\n",
              "      <th>39</th>\n",
              "      <th>...</th>\n",
              "      <th>3032</th>\n",
              "      <th>3033</th>\n",
              "      <th>3034</th>\n",
              "      <th>3035</th>\n",
              "      <th>3036</th>\n",
              "      <th>3037</th>\n",
              "      <th>3038</th>\n",
              "      <th>3039</th>\n",
              "      <th>3040</th>\n",
              "      <th>3041</th>\n",
              "      <th>3042</th>\n",
              "      <th>3043</th>\n",
              "      <th>3044</th>\n",
              "      <th>3045</th>\n",
              "      <th>3046</th>\n",
              "      <th>3047</th>\n",
              "      <th>3048</th>\n",
              "      <th>3049</th>\n",
              "      <th>3050</th>\n",
              "      <th>3051</th>\n",
              "      <th>3052</th>\n",
              "      <th>3053</th>\n",
              "      <th>3054</th>\n",
              "      <th>3055</th>\n",
              "      <th>3056</th>\n",
              "      <th>3057</th>\n",
              "      <th>3058</th>\n",
              "      <th>3059</th>\n",
              "      <th>3060</th>\n",
              "      <th>3061</th>\n",
              "      <th>3062</th>\n",
              "      <th>3063</th>\n",
              "      <th>3064</th>\n",
              "      <th>3065</th>\n",
              "      <th>3066</th>\n",
              "      <th>3067</th>\n",
              "      <th>3068</th>\n",
              "      <th>3069</th>\n",
              "      <th>3070</th>\n",
              "      <th>3071</th>\n",
              "    </tr>\n",
              "  </thead>\n",
              "  <tbody>\n",
              "    <tr>\n",
              "      <th>0</th>\n",
              "      <td>59</td>\n",
              "      <td>62</td>\n",
              "      <td>63</td>\n",
              "      <td>43</td>\n",
              "      <td>46</td>\n",
              "      <td>45</td>\n",
              "      <td>50</td>\n",
              "      <td>48</td>\n",
              "      <td>43</td>\n",
              "      <td>68</td>\n",
              "      <td>54</td>\n",
              "      <td>42</td>\n",
              "      <td>98</td>\n",
              "      <td>73</td>\n",
              "      <td>52</td>\n",
              "      <td>119</td>\n",
              "      <td>91</td>\n",
              "      <td>63</td>\n",
              "      <td>139</td>\n",
              "      <td>107</td>\n",
              "      <td>75</td>\n",
              "      <td>145</td>\n",
              "      <td>110</td>\n",
              "      <td>80</td>\n",
              "      <td>149</td>\n",
              "      <td>117</td>\n",
              "      <td>89</td>\n",
              "      <td>149</td>\n",
              "      <td>120</td>\n",
              "      <td>93</td>\n",
              "      <td>131</td>\n",
              "      <td>103</td>\n",
              "      <td>77</td>\n",
              "      <td>125</td>\n",
              "      <td>99</td>\n",
              "      <td>76</td>\n",
              "      <td>142</td>\n",
              "      <td>115</td>\n",
              "      <td>91</td>\n",
              "      <td>144</td>\n",
              "      <td>...</td>\n",
              "      <td>83</td>\n",
              "      <td>148</td>\n",
              "      <td>103</td>\n",
              "      <td>77</td>\n",
              "      <td>161</td>\n",
              "      <td>105</td>\n",
              "      <td>69</td>\n",
              "      <td>144</td>\n",
              "      <td>95</td>\n",
              "      <td>55</td>\n",
              "      <td>112</td>\n",
              "      <td>90</td>\n",
              "      <td>59</td>\n",
              "      <td>119</td>\n",
              "      <td>91</td>\n",
              "      <td>58</td>\n",
              "      <td>130</td>\n",
              "      <td>96</td>\n",
              "      <td>65</td>\n",
              "      <td>120</td>\n",
              "      <td>87</td>\n",
              "      <td>59</td>\n",
              "      <td>92</td>\n",
              "      <td>67</td>\n",
              "      <td>46</td>\n",
              "      <td>103</td>\n",
              "      <td>78</td>\n",
              "      <td>57</td>\n",
              "      <td>170</td>\n",
              "      <td>140</td>\n",
              "      <td>104</td>\n",
              "      <td>216</td>\n",
              "      <td>184</td>\n",
              "      <td>140</td>\n",
              "      <td>151</td>\n",
              "      <td>118</td>\n",
              "      <td>84</td>\n",
              "      <td>123</td>\n",
              "      <td>92</td>\n",
              "      <td>72</td>\n",
              "    </tr>\n",
              "    <tr>\n",
              "      <th>1</th>\n",
              "      <td>154</td>\n",
              "      <td>177</td>\n",
              "      <td>187</td>\n",
              "      <td>126</td>\n",
              "      <td>137</td>\n",
              "      <td>136</td>\n",
              "      <td>105</td>\n",
              "      <td>104</td>\n",
              "      <td>95</td>\n",
              "      <td>102</td>\n",
              "      <td>101</td>\n",
              "      <td>99</td>\n",
              "      <td>125</td>\n",
              "      <td>131</td>\n",
              "      <td>139</td>\n",
              "      <td>155</td>\n",
              "      <td>166</td>\n",
              "      <td>180</td>\n",
              "      <td>172</td>\n",
              "      <td>190</td>\n",
              "      <td>210</td>\n",
              "      <td>180</td>\n",
              "      <td>199</td>\n",
              "      <td>214</td>\n",
              "      <td>142</td>\n",
              "      <td>156</td>\n",
              "      <td>156</td>\n",
              "      <td>111</td>\n",
              "      <td>120</td>\n",
              "      <td>110</td>\n",
              "      <td>106</td>\n",
              "      <td>107</td>\n",
              "      <td>98</td>\n",
              "      <td>109</td>\n",
              "      <td>104</td>\n",
              "      <td>102</td>\n",
              "      <td>123</td>\n",
              "      <td>121</td>\n",
              "      <td>117</td>\n",
              "      <td>127</td>\n",
              "      <td>...</td>\n",
              "      <td>28</td>\n",
              "      <td>5</td>\n",
              "      <td>6</td>\n",
              "      <td>11</td>\n",
              "      <td>6</td>\n",
              "      <td>6</td>\n",
              "      <td>11</td>\n",
              "      <td>10</td>\n",
              "      <td>9</td>\n",
              "      <td>12</td>\n",
              "      <td>25</td>\n",
              "      <td>22</td>\n",
              "      <td>22</td>\n",
              "      <td>51</td>\n",
              "      <td>45</td>\n",
              "      <td>42</td>\n",
              "      <td>68</td>\n",
              "      <td>64</td>\n",
              "      <td>67</td>\n",
              "      <td>90</td>\n",
              "      <td>90</td>\n",
              "      <td>101</td>\n",
              "      <td>116</td>\n",
              "      <td>113</td>\n",
              "      <td>122</td>\n",
              "      <td>134</td>\n",
              "      <td>127</td>\n",
              "      <td>133</td>\n",
              "      <td>140</td>\n",
              "      <td>130</td>\n",
              "      <td>136</td>\n",
              "      <td>143</td>\n",
              "      <td>133</td>\n",
              "      <td>139</td>\n",
              "      <td>143</td>\n",
              "      <td>134</td>\n",
              "      <td>142</td>\n",
              "      <td>143</td>\n",
              "      <td>133</td>\n",
              "      <td>144</td>\n",
              "    </tr>\n",
              "    <tr>\n",
              "      <th>2</th>\n",
              "      <td>255</td>\n",
              "      <td>255</td>\n",
              "      <td>255</td>\n",
              "      <td>253</td>\n",
              "      <td>253</td>\n",
              "      <td>253</td>\n",
              "      <td>253</td>\n",
              "      <td>253</td>\n",
              "      <td>253</td>\n",
              "      <td>253</td>\n",
              "      <td>253</td>\n",
              "      <td>253</td>\n",
              "      <td>253</td>\n",
              "      <td>253</td>\n",
              "      <td>253</td>\n",
              "      <td>253</td>\n",
              "      <td>253</td>\n",
              "      <td>253</td>\n",
              "      <td>253</td>\n",
              "      <td>253</td>\n",
              "      <td>253</td>\n",
              "      <td>253</td>\n",
              "      <td>253</td>\n",
              "      <td>253</td>\n",
              "      <td>253</td>\n",
              "      <td>253</td>\n",
              "      <td>253</td>\n",
              "      <td>253</td>\n",
              "      <td>253</td>\n",
              "      <td>253</td>\n",
              "      <td>253</td>\n",
              "      <td>253</td>\n",
              "      <td>253</td>\n",
              "      <td>253</td>\n",
              "      <td>253</td>\n",
              "      <td>253</td>\n",
              "      <td>253</td>\n",
              "      <td>253</td>\n",
              "      <td>253</td>\n",
              "      <td>253</td>\n",
              "      <td>...</td>\n",
              "      <td>92</td>\n",
              "      <td>76</td>\n",
              "      <td>90</td>\n",
              "      <td>90</td>\n",
              "      <td>72</td>\n",
              "      <td>86</td>\n",
              "      <td>86</td>\n",
              "      <td>64</td>\n",
              "      <td>78</td>\n",
              "      <td>78</td>\n",
              "      <td>64</td>\n",
              "      <td>78</td>\n",
              "      <td>78</td>\n",
              "      <td>69</td>\n",
              "      <td>83</td>\n",
              "      <td>83</td>\n",
              "      <td>66</td>\n",
              "      <td>80</td>\n",
              "      <td>80</td>\n",
              "      <td>55</td>\n",
              "      <td>69</td>\n",
              "      <td>69</td>\n",
              "      <td>52</td>\n",
              "      <td>66</td>\n",
              "      <td>66</td>\n",
              "      <td>58</td>\n",
              "      <td>72</td>\n",
              "      <td>72</td>\n",
              "      <td>68</td>\n",
              "      <td>80</td>\n",
              "      <td>79</td>\n",
              "      <td>78</td>\n",
              "      <td>85</td>\n",
              "      <td>83</td>\n",
              "      <td>79</td>\n",
              "      <td>85</td>\n",
              "      <td>83</td>\n",
              "      <td>80</td>\n",
              "      <td>86</td>\n",
              "      <td>84</td>\n",
              "    </tr>\n",
              "    <tr>\n",
              "      <th>3</th>\n",
              "      <td>28</td>\n",
              "      <td>25</td>\n",
              "      <td>10</td>\n",
              "      <td>37</td>\n",
              "      <td>34</td>\n",
              "      <td>19</td>\n",
              "      <td>38</td>\n",
              "      <td>35</td>\n",
              "      <td>20</td>\n",
              "      <td>42</td>\n",
              "      <td>37</td>\n",
              "      <td>23</td>\n",
              "      <td>44</td>\n",
              "      <td>39</td>\n",
              "      <td>25</td>\n",
              "      <td>40</td>\n",
              "      <td>37</td>\n",
              "      <td>22</td>\n",
              "      <td>40</td>\n",
              "      <td>38</td>\n",
              "      <td>23</td>\n",
              "      <td>24</td>\n",
              "      <td>23</td>\n",
              "      <td>9</td>\n",
              "      <td>32</td>\n",
              "      <td>25</td>\n",
              "      <td>15</td>\n",
              "      <td>43</td>\n",
              "      <td>27</td>\n",
              "      <td>19</td>\n",
              "      <td>30</td>\n",
              "      <td>20</td>\n",
              "      <td>10</td>\n",
              "      <td>32</td>\n",
              "      <td>30</td>\n",
              "      <td>17</td>\n",
              "      <td>41</td>\n",
              "      <td>37</td>\n",
              "      <td>23</td>\n",
              "      <td>52</td>\n",
              "      <td>...</td>\n",
              "      <td>55</td>\n",
              "      <td>122</td>\n",
              "      <td>99</td>\n",
              "      <td>67</td>\n",
              "      <td>107</td>\n",
              "      <td>85</td>\n",
              "      <td>54</td>\n",
              "      <td>112</td>\n",
              "      <td>96</td>\n",
              "      <td>66</td>\n",
              "      <td>92</td>\n",
              "      <td>81</td>\n",
              "      <td>53</td>\n",
              "      <td>80</td>\n",
              "      <td>62</td>\n",
              "      <td>39</td>\n",
              "      <td>96</td>\n",
              "      <td>78</td>\n",
              "      <td>59</td>\n",
              "      <td>77</td>\n",
              "      <td>67</td>\n",
              "      <td>42</td>\n",
              "      <td>85</td>\n",
              "      <td>76</td>\n",
              "      <td>44</td>\n",
              "      <td>84</td>\n",
              "      <td>75</td>\n",
              "      <td>48</td>\n",
              "      <td>67</td>\n",
              "      <td>57</td>\n",
              "      <td>38</td>\n",
              "      <td>54</td>\n",
              "      <td>47</td>\n",
              "      <td>28</td>\n",
              "      <td>63</td>\n",
              "      <td>56</td>\n",
              "      <td>37</td>\n",
              "      <td>72</td>\n",
              "      <td>65</td>\n",
              "      <td>46</td>\n",
              "    </tr>\n",
              "    <tr>\n",
              "      <th>4</th>\n",
              "      <td>170</td>\n",
              "      <td>180</td>\n",
              "      <td>198</td>\n",
              "      <td>168</td>\n",
              "      <td>178</td>\n",
              "      <td>196</td>\n",
              "      <td>177</td>\n",
              "      <td>185</td>\n",
              "      <td>203</td>\n",
              "      <td>183</td>\n",
              "      <td>193</td>\n",
              "      <td>211</td>\n",
              "      <td>181</td>\n",
              "      <td>196</td>\n",
              "      <td>218</td>\n",
              "      <td>177</td>\n",
              "      <td>195</td>\n",
              "      <td>220</td>\n",
              "      <td>181</td>\n",
              "      <td>195</td>\n",
              "      <td>223</td>\n",
              "      <td>184</td>\n",
              "      <td>192</td>\n",
              "      <td>223</td>\n",
              "      <td>189</td>\n",
              "      <td>190</td>\n",
              "      <td>223</td>\n",
              "      <td>189</td>\n",
              "      <td>189</td>\n",
              "      <td>222</td>\n",
              "      <td>188</td>\n",
              "      <td>193</td>\n",
              "      <td>224</td>\n",
              "      <td>183</td>\n",
              "      <td>194</td>\n",
              "      <td>223</td>\n",
              "      <td>182</td>\n",
              "      <td>194</td>\n",
              "      <td>223</td>\n",
              "      <td>184</td>\n",
              "      <td>...</td>\n",
              "      <td>101</td>\n",
              "      <td>93</td>\n",
              "      <td>98</td>\n",
              "      <td>102</td>\n",
              "      <td>90</td>\n",
              "      <td>95</td>\n",
              "      <td>99</td>\n",
              "      <td>88</td>\n",
              "      <td>93</td>\n",
              "      <td>97</td>\n",
              "      <td>83</td>\n",
              "      <td>89</td>\n",
              "      <td>92</td>\n",
              "      <td>77</td>\n",
              "      <td>87</td>\n",
              "      <td>88</td>\n",
              "      <td>75</td>\n",
              "      <td>84</td>\n",
              "      <td>85</td>\n",
              "      <td>71</td>\n",
              "      <td>81</td>\n",
              "      <td>82</td>\n",
              "      <td>74</td>\n",
              "      <td>80</td>\n",
              "      <td>83</td>\n",
              "      <td>72</td>\n",
              "      <td>76</td>\n",
              "      <td>79</td>\n",
              "      <td>71</td>\n",
              "      <td>75</td>\n",
              "      <td>78</td>\n",
              "      <td>75</td>\n",
              "      <td>79</td>\n",
              "      <td>82</td>\n",
              "      <td>71</td>\n",
              "      <td>75</td>\n",
              "      <td>78</td>\n",
              "      <td>73</td>\n",
              "      <td>77</td>\n",
              "      <td>80</td>\n",
              "    </tr>\n",
              "    <tr>\n",
              "      <th>...</th>\n",
              "      <td>...</td>\n",
              "      <td>...</td>\n",
              "      <td>...</td>\n",
              "      <td>...</td>\n",
              "      <td>...</td>\n",
              "      <td>...</td>\n",
              "      <td>...</td>\n",
              "      <td>...</td>\n",
              "      <td>...</td>\n",
              "      <td>...</td>\n",
              "      <td>...</td>\n",
              "      <td>...</td>\n",
              "      <td>...</td>\n",
              "      <td>...</td>\n",
              "      <td>...</td>\n",
              "      <td>...</td>\n",
              "      <td>...</td>\n",
              "      <td>...</td>\n",
              "      <td>...</td>\n",
              "      <td>...</td>\n",
              "      <td>...</td>\n",
              "      <td>...</td>\n",
              "      <td>...</td>\n",
              "      <td>...</td>\n",
              "      <td>...</td>\n",
              "      <td>...</td>\n",
              "      <td>...</td>\n",
              "      <td>...</td>\n",
              "      <td>...</td>\n",
              "      <td>...</td>\n",
              "      <td>...</td>\n",
              "      <td>...</td>\n",
              "      <td>...</td>\n",
              "      <td>...</td>\n",
              "      <td>...</td>\n",
              "      <td>...</td>\n",
              "      <td>...</td>\n",
              "      <td>...</td>\n",
              "      <td>...</td>\n",
              "      <td>...</td>\n",
              "      <td>...</td>\n",
              "      <td>...</td>\n",
              "      <td>...</td>\n",
              "      <td>...</td>\n",
              "      <td>...</td>\n",
              "      <td>...</td>\n",
              "      <td>...</td>\n",
              "      <td>...</td>\n",
              "      <td>...</td>\n",
              "      <td>...</td>\n",
              "      <td>...</td>\n",
              "      <td>...</td>\n",
              "      <td>...</td>\n",
              "      <td>...</td>\n",
              "      <td>...</td>\n",
              "      <td>...</td>\n",
              "      <td>...</td>\n",
              "      <td>...</td>\n",
              "      <td>...</td>\n",
              "      <td>...</td>\n",
              "      <td>...</td>\n",
              "      <td>...</td>\n",
              "      <td>...</td>\n",
              "      <td>...</td>\n",
              "      <td>...</td>\n",
              "      <td>...</td>\n",
              "      <td>...</td>\n",
              "      <td>...</td>\n",
              "      <td>...</td>\n",
              "      <td>...</td>\n",
              "      <td>...</td>\n",
              "      <td>...</td>\n",
              "      <td>...</td>\n",
              "      <td>...</td>\n",
              "      <td>...</td>\n",
              "      <td>...</td>\n",
              "      <td>...</td>\n",
              "      <td>...</td>\n",
              "      <td>...</td>\n",
              "      <td>...</td>\n",
              "      <td>...</td>\n",
              "    </tr>\n",
              "    <tr>\n",
              "      <th>9995</th>\n",
              "      <td>76</td>\n",
              "      <td>78</td>\n",
              "      <td>133</td>\n",
              "      <td>76</td>\n",
              "      <td>78</td>\n",
              "      <td>134</td>\n",
              "      <td>77</td>\n",
              "      <td>80</td>\n",
              "      <td>132</td>\n",
              "      <td>76</td>\n",
              "      <td>81</td>\n",
              "      <td>130</td>\n",
              "      <td>75</td>\n",
              "      <td>80</td>\n",
              "      <td>131</td>\n",
              "      <td>76</td>\n",
              "      <td>81</td>\n",
              "      <td>134</td>\n",
              "      <td>76</td>\n",
              "      <td>81</td>\n",
              "      <td>136</td>\n",
              "      <td>76</td>\n",
              "      <td>82</td>\n",
              "      <td>136</td>\n",
              "      <td>76</td>\n",
              "      <td>83</td>\n",
              "      <td>137</td>\n",
              "      <td>78</td>\n",
              "      <td>85</td>\n",
              "      <td>141</td>\n",
              "      <td>81</td>\n",
              "      <td>88</td>\n",
              "      <td>142</td>\n",
              "      <td>81</td>\n",
              "      <td>87</td>\n",
              "      <td>140</td>\n",
              "      <td>81</td>\n",
              "      <td>86</td>\n",
              "      <td>141</td>\n",
              "      <td>80</td>\n",
              "      <td>...</td>\n",
              "      <td>248</td>\n",
              "      <td>234</td>\n",
              "      <td>246</td>\n",
              "      <td>244</td>\n",
              "      <td>222</td>\n",
              "      <td>235</td>\n",
              "      <td>237</td>\n",
              "      <td>216</td>\n",
              "      <td>229</td>\n",
              "      <td>236</td>\n",
              "      <td>203</td>\n",
              "      <td>217</td>\n",
              "      <td>228</td>\n",
              "      <td>156</td>\n",
              "      <td>171</td>\n",
              "      <td>185</td>\n",
              "      <td>146</td>\n",
              "      <td>160</td>\n",
              "      <td>177</td>\n",
              "      <td>194</td>\n",
              "      <td>207</td>\n",
              "      <td>223</td>\n",
              "      <td>216</td>\n",
              "      <td>228</td>\n",
              "      <td>239</td>\n",
              "      <td>222</td>\n",
              "      <td>233</td>\n",
              "      <td>239</td>\n",
              "      <td>211</td>\n",
              "      <td>224</td>\n",
              "      <td>235</td>\n",
              "      <td>204</td>\n",
              "      <td>219</td>\n",
              "      <td>236</td>\n",
              "      <td>200</td>\n",
              "      <td>215</td>\n",
              "      <td>234</td>\n",
              "      <td>199</td>\n",
              "      <td>216</td>\n",
              "      <td>236</td>\n",
              "    </tr>\n",
              "    <tr>\n",
              "      <th>9996</th>\n",
              "      <td>81</td>\n",
              "      <td>57</td>\n",
              "      <td>43</td>\n",
              "      <td>91</td>\n",
              "      <td>69</td>\n",
              "      <td>53</td>\n",
              "      <td>98</td>\n",
              "      <td>75</td>\n",
              "      <td>63</td>\n",
              "      <td>106</td>\n",
              "      <td>80</td>\n",
              "      <td>64</td>\n",
              "      <td>108</td>\n",
              "      <td>85</td>\n",
              "      <td>67</td>\n",
              "      <td>110</td>\n",
              "      <td>90</td>\n",
              "      <td>79</td>\n",
              "      <td>80</td>\n",
              "      <td>96</td>\n",
              "      <td>116</td>\n",
              "      <td>84</td>\n",
              "      <td>100</td>\n",
              "      <td>126</td>\n",
              "      <td>88</td>\n",
              "      <td>104</td>\n",
              "      <td>126</td>\n",
              "      <td>90</td>\n",
              "      <td>114</td>\n",
              "      <td>138</td>\n",
              "      <td>92</td>\n",
              "      <td>117</td>\n",
              "      <td>144</td>\n",
              "      <td>90</td>\n",
              "      <td>117</td>\n",
              "      <td>140</td>\n",
              "      <td>96</td>\n",
              "      <td>107</td>\n",
              "      <td>127</td>\n",
              "      <td>111</td>\n",
              "      <td>...</td>\n",
              "      <td>145</td>\n",
              "      <td>174</td>\n",
              "      <td>171</td>\n",
              "      <td>167</td>\n",
              "      <td>176</td>\n",
              "      <td>157</td>\n",
              "      <td>138</td>\n",
              "      <td>199</td>\n",
              "      <td>178</td>\n",
              "      <td>158</td>\n",
              "      <td>182</td>\n",
              "      <td>152</td>\n",
              "      <td>126</td>\n",
              "      <td>176</td>\n",
              "      <td>139</td>\n",
              "      <td>107</td>\n",
              "      <td>159</td>\n",
              "      <td>146</td>\n",
              "      <td>143</td>\n",
              "      <td>157</td>\n",
              "      <td>154</td>\n",
              "      <td>155</td>\n",
              "      <td>156</td>\n",
              "      <td>156</td>\n",
              "      <td>156</td>\n",
              "      <td>156</td>\n",
              "      <td>159</td>\n",
              "      <td>160</td>\n",
              "      <td>185</td>\n",
              "      <td>177</td>\n",
              "      <td>173</td>\n",
              "      <td>155</td>\n",
              "      <td>139</td>\n",
              "      <td>129</td>\n",
              "      <td>171</td>\n",
              "      <td>167</td>\n",
              "      <td>147</td>\n",
              "      <td>167</td>\n",
              "      <td>164</td>\n",
              "      <td>160</td>\n",
              "    </tr>\n",
              "    <tr>\n",
              "      <th>9997</th>\n",
              "      <td>20</td>\n",
              "      <td>15</td>\n",
              "      <td>12</td>\n",
              "      <td>19</td>\n",
              "      <td>14</td>\n",
              "      <td>11</td>\n",
              "      <td>15</td>\n",
              "      <td>14</td>\n",
              "      <td>11</td>\n",
              "      <td>15</td>\n",
              "      <td>14</td>\n",
              "      <td>11</td>\n",
              "      <td>14</td>\n",
              "      <td>13</td>\n",
              "      <td>10</td>\n",
              "      <td>13</td>\n",
              "      <td>12</td>\n",
              "      <td>9</td>\n",
              "      <td>12</td>\n",
              "      <td>11</td>\n",
              "      <td>8</td>\n",
              "      <td>11</td>\n",
              "      <td>10</td>\n",
              "      <td>7</td>\n",
              "      <td>10</td>\n",
              "      <td>9</td>\n",
              "      <td>6</td>\n",
              "      <td>9</td>\n",
              "      <td>8</td>\n",
              "      <td>5</td>\n",
              "      <td>8</td>\n",
              "      <td>6</td>\n",
              "      <td>6</td>\n",
              "      <td>8</td>\n",
              "      <td>6</td>\n",
              "      <td>7</td>\n",
              "      <td>7</td>\n",
              "      <td>5</td>\n",
              "      <td>6</td>\n",
              "      <td>6</td>\n",
              "      <td>...</td>\n",
              "      <td>135</td>\n",
              "      <td>179</td>\n",
              "      <td>138</td>\n",
              "      <td>120</td>\n",
              "      <td>157</td>\n",
              "      <td>123</td>\n",
              "      <td>111</td>\n",
              "      <td>141</td>\n",
              "      <td>129</td>\n",
              "      <td>122</td>\n",
              "      <td>127</td>\n",
              "      <td>122</td>\n",
              "      <td>114</td>\n",
              "      <td>121</td>\n",
              "      <td>117</td>\n",
              "      <td>112</td>\n",
              "      <td>62</td>\n",
              "      <td>56</td>\n",
              "      <td>68</td>\n",
              "      <td>28</td>\n",
              "      <td>23</td>\n",
              "      <td>50</td>\n",
              "      <td>29</td>\n",
              "      <td>25</td>\n",
              "      <td>52</td>\n",
              "      <td>28</td>\n",
              "      <td>24</td>\n",
              "      <td>52</td>\n",
              "      <td>27</td>\n",
              "      <td>23</td>\n",
              "      <td>51</td>\n",
              "      <td>24</td>\n",
              "      <td>23</td>\n",
              "      <td>50</td>\n",
              "      <td>26</td>\n",
              "      <td>23</td>\n",
              "      <td>53</td>\n",
              "      <td>25</td>\n",
              "      <td>20</td>\n",
              "      <td>47</td>\n",
              "    </tr>\n",
              "    <tr>\n",
              "      <th>9998</th>\n",
              "      <td>25</td>\n",
              "      <td>40</td>\n",
              "      <td>12</td>\n",
              "      <td>15</td>\n",
              "      <td>36</td>\n",
              "      <td>3</td>\n",
              "      <td>23</td>\n",
              "      <td>41</td>\n",
              "      <td>18</td>\n",
              "      <td>17</td>\n",
              "      <td>28</td>\n",
              "      <td>14</td>\n",
              "      <td>23</td>\n",
              "      <td>26</td>\n",
              "      <td>13</td>\n",
              "      <td>51</td>\n",
              "      <td>49</td>\n",
              "      <td>34</td>\n",
              "      <td>74</td>\n",
              "      <td>73</td>\n",
              "      <td>54</td>\n",
              "      <td>91</td>\n",
              "      <td>89</td>\n",
              "      <td>65</td>\n",
              "      <td>114</td>\n",
              "      <td>114</td>\n",
              "      <td>79</td>\n",
              "      <td>137</td>\n",
              "      <td>138</td>\n",
              "      <td>101</td>\n",
              "      <td>90</td>\n",
              "      <td>92</td>\n",
              "      <td>70</td>\n",
              "      <td>32</td>\n",
              "      <td>35</td>\n",
              "      <td>25</td>\n",
              "      <td>16</td>\n",
              "      <td>20</td>\n",
              "      <td>16</td>\n",
              "      <td>9</td>\n",
              "      <td>...</td>\n",
              "      <td>87</td>\n",
              "      <td>111</td>\n",
              "      <td>141</td>\n",
              "      <td>92</td>\n",
              "      <td>114</td>\n",
              "      <td>145</td>\n",
              "      <td>97</td>\n",
              "      <td>108</td>\n",
              "      <td>141</td>\n",
              "      <td>90</td>\n",
              "      <td>107</td>\n",
              "      <td>140</td>\n",
              "      <td>87</td>\n",
              "      <td>103</td>\n",
              "      <td>137</td>\n",
              "      <td>84</td>\n",
              "      <td>103</td>\n",
              "      <td>136</td>\n",
              "      <td>83</td>\n",
              "      <td>103</td>\n",
              "      <td>137</td>\n",
              "      <td>84</td>\n",
              "      <td>95</td>\n",
              "      <td>131</td>\n",
              "      <td>79</td>\n",
              "      <td>92</td>\n",
              "      <td>129</td>\n",
              "      <td>78</td>\n",
              "      <td>92</td>\n",
              "      <td>126</td>\n",
              "      <td>78</td>\n",
              "      <td>93</td>\n",
              "      <td>124</td>\n",
              "      <td>80</td>\n",
              "      <td>95</td>\n",
              "      <td>123</td>\n",
              "      <td>81</td>\n",
              "      <td>92</td>\n",
              "      <td>120</td>\n",
              "      <td>80</td>\n",
              "    </tr>\n",
              "    <tr>\n",
              "      <th>9999</th>\n",
              "      <td>73</td>\n",
              "      <td>78</td>\n",
              "      <td>75</td>\n",
              "      <td>98</td>\n",
              "      <td>103</td>\n",
              "      <td>113</td>\n",
              "      <td>99</td>\n",
              "      <td>106</td>\n",
              "      <td>114</td>\n",
              "      <td>77</td>\n",
              "      <td>84</td>\n",
              "      <td>89</td>\n",
              "      <td>59</td>\n",
              "      <td>64</td>\n",
              "      <td>66</td>\n",
              "      <td>146</td>\n",
              "      <td>154</td>\n",
              "      <td>162</td>\n",
              "      <td>214</td>\n",
              "      <td>227</td>\n",
              "      <td>240</td>\n",
              "      <td>176</td>\n",
              "      <td>188</td>\n",
              "      <td>200</td>\n",
              "      <td>125</td>\n",
              "      <td>133</td>\n",
              "      <td>143</td>\n",
              "      <td>218</td>\n",
              "      <td>228</td>\n",
              "      <td>236</td>\n",
              "      <td>174</td>\n",
              "      <td>186</td>\n",
              "      <td>197</td>\n",
              "      <td>219</td>\n",
              "      <td>231</td>\n",
              "      <td>242</td>\n",
              "      <td>233</td>\n",
              "      <td>243</td>\n",
              "      <td>252</td>\n",
              "      <td>231</td>\n",
              "      <td>...</td>\n",
              "      <td>79</td>\n",
              "      <td>102</td>\n",
              "      <td>104</td>\n",
              "      <td>82</td>\n",
              "      <td>110</td>\n",
              "      <td>112</td>\n",
              "      <td>90</td>\n",
              "      <td>106</td>\n",
              "      <td>107</td>\n",
              "      <td>87</td>\n",
              "      <td>103</td>\n",
              "      <td>102</td>\n",
              "      <td>84</td>\n",
              "      <td>108</td>\n",
              "      <td>106</td>\n",
              "      <td>89</td>\n",
              "      <td>108</td>\n",
              "      <td>106</td>\n",
              "      <td>88</td>\n",
              "      <td>106</td>\n",
              "      <td>106</td>\n",
              "      <td>85</td>\n",
              "      <td>114</td>\n",
              "      <td>114</td>\n",
              "      <td>93</td>\n",
              "      <td>112</td>\n",
              "      <td>114</td>\n",
              "      <td>93</td>\n",
              "      <td>110</td>\n",
              "      <td>112</td>\n",
              "      <td>90</td>\n",
              "      <td>116</td>\n",
              "      <td>115</td>\n",
              "      <td>94</td>\n",
              "      <td>68</td>\n",
              "      <td>65</td>\n",
              "      <td>58</td>\n",
              "      <td>27</td>\n",
              "      <td>26</td>\n",
              "      <td>26</td>\n",
              "    </tr>\n",
              "  </tbody>\n",
              "</table>\n",
              "<p>60000 rows × 3072 columns</p>\n",
              "</div>\n",
              "      <button class=\"colab-df-convert\" onclick=\"convertToInteractive('df-dd297f83-a29f-4ad8-a4ab-03edf93dfe0e')\"\n",
              "              title=\"Convert this dataframe to an interactive table.\"\n",
              "              style=\"display:none;\">\n",
              "        \n",
              "  <svg xmlns=\"http://www.w3.org/2000/svg\" height=\"24px\"viewBox=\"0 0 24 24\"\n",
              "       width=\"24px\">\n",
              "    <path d=\"M0 0h24v24H0V0z\" fill=\"none\"/>\n",
              "    <path d=\"M18.56 5.44l.94 2.06.94-2.06 2.06-.94-2.06-.94-.94-2.06-.94 2.06-2.06.94zm-11 1L8.5 8.5l.94-2.06 2.06-.94-2.06-.94L8.5 2.5l-.94 2.06-2.06.94zm10 10l.94 2.06.94-2.06 2.06-.94-2.06-.94-.94-2.06-.94 2.06-2.06.94z\"/><path d=\"M17.41 7.96l-1.37-1.37c-.4-.4-.92-.59-1.43-.59-.52 0-1.04.2-1.43.59L10.3 9.45l-7.72 7.72c-.78.78-.78 2.05 0 2.83L4 21.41c.39.39.9.59 1.41.59.51 0 1.02-.2 1.41-.59l7.78-7.78 2.81-2.81c.8-.78.8-2.07 0-2.86zM5.41 20L4 18.59l7.72-7.72 1.47 1.35L5.41 20z\"/>\n",
              "  </svg>\n",
              "      </button>\n",
              "      \n",
              "  <style>\n",
              "    .colab-df-container {\n",
              "      display:flex;\n",
              "      flex-wrap:wrap;\n",
              "      gap: 12px;\n",
              "    }\n",
              "\n",
              "    .colab-df-convert {\n",
              "      background-color: #E8F0FE;\n",
              "      border: none;\n",
              "      border-radius: 50%;\n",
              "      cursor: pointer;\n",
              "      display: none;\n",
              "      fill: #1967D2;\n",
              "      height: 32px;\n",
              "      padding: 0 0 0 0;\n",
              "      width: 32px;\n",
              "    }\n",
              "\n",
              "    .colab-df-convert:hover {\n",
              "      background-color: #E2EBFA;\n",
              "      box-shadow: 0px 1px 2px rgba(60, 64, 67, 0.3), 0px 1px 3px 1px rgba(60, 64, 67, 0.15);\n",
              "      fill: #174EA6;\n",
              "    }\n",
              "\n",
              "    [theme=dark] .colab-df-convert {\n",
              "      background-color: #3B4455;\n",
              "      fill: #D2E3FC;\n",
              "    }\n",
              "\n",
              "    [theme=dark] .colab-df-convert:hover {\n",
              "      background-color: #434B5C;\n",
              "      box-shadow: 0px 1px 3px 1px rgba(0, 0, 0, 0.15);\n",
              "      filter: drop-shadow(0px 1px 2px rgba(0, 0, 0, 0.3));\n",
              "      fill: #FFFFFF;\n",
              "    }\n",
              "  </style>\n",
              "\n",
              "      <script>\n",
              "        const buttonEl =\n",
              "          document.querySelector('#df-dd297f83-a29f-4ad8-a4ab-03edf93dfe0e button.colab-df-convert');\n",
              "        buttonEl.style.display =\n",
              "          google.colab.kernel.accessAllowed ? 'block' : 'none';\n",
              "\n",
              "        async function convertToInteractive(key) {\n",
              "          const element = document.querySelector('#df-dd297f83-a29f-4ad8-a4ab-03edf93dfe0e');\n",
              "          const dataTable =\n",
              "            await google.colab.kernel.invokeFunction('convertToInteractive',\n",
              "                                                     [key], {});\n",
              "          if (!dataTable) return;\n",
              "\n",
              "          const docLinkHtml = 'Like what you see? Visit the ' +\n",
              "            '<a target=\"_blank\" href=https://colab.research.google.com/notebooks/data_table.ipynb>data table notebook</a>'\n",
              "            + ' to learn more about interactive tables.';\n",
              "          element.innerHTML = '';\n",
              "          dataTable['output_type'] = 'display_data';\n",
              "          await google.colab.output.renderOutput(dataTable, element);\n",
              "          const docLink = document.createElement('div');\n",
              "          docLink.innerHTML = docLinkHtml;\n",
              "          element.appendChild(docLink);\n",
              "        }\n",
              "      </script>\n",
              "    </div>\n",
              "  </div>\n",
              "  "
            ],
            "text/plain": [
              "      0     1     2     3     4     5     ...  3066  3067  3068  3069  3070  3071\n",
              "0       59    62    63    43    46    45  ...   151   118    84   123    92    72\n",
              "1      154   177   187   126   137   136  ...   143   134   142   143   133   144\n",
              "2      255   255   255   253   253   253  ...    79    85    83    80    86    84\n",
              "3       28    25    10    37    34    19  ...    63    56    37    72    65    46\n",
              "4      170   180   198   168   178   196  ...    71    75    78    73    77    80\n",
              "...    ...   ...   ...   ...   ...   ...  ...   ...   ...   ...   ...   ...   ...\n",
              "9995    76    78   133    76    78   134  ...   200   215   234   199   216   236\n",
              "9996    81    57    43    91    69    53  ...   171   167   147   167   164   160\n",
              "9997    20    15    12    19    14    11  ...    26    23    53    25    20    47\n",
              "9998    25    40    12    15    36     3  ...    95   123    81    92   120    80\n",
              "9999    73    78    75    98   103   113  ...    68    65    58    27    26    26\n",
              "\n",
              "[60000 rows x 3072 columns]"
            ]
          },
          "execution_count": 31,
          "metadata": {},
          "output_type": "execute_result"
        }
      ],
      "source": [
        "#Center and Rescale input vectors?\n",
        "#First going to combine x_train and X_test\n",
        "X1 = pd.DataFrame(X_train)\n",
        "X2 = pd.DataFrame(X_test)\n",
        "X = pd.concat([X1, X2])\n",
        "X"
      ]
    },
    {
      "cell_type": "code",
      "execution_count": null,
      "metadata": {
        "id": "h7tw9vThyvxo"
      },
      "outputs": [],
      "source": [
        "# #TOOK 25 MINUTES\n",
        "# #Need to make X scaled first\n",
        "# from sklearn import preprocessing\n",
        "# scaler = preprocessing.StandardScaler().fit(X)\n",
        "# x_scaled = scaler.transform(X)\n",
        "# X_scaled = pd.DataFrame(scaler.transform(X))\n",
        "# CORR = X_scaled.corr()"
      ]
    },
    {
      "cell_type": "code",
      "execution_count": null,
      "metadata": {
        "id": "zr8pDOhpywZp"
      },
      "outputs": [],
      "source": [
        "# #Compute eigen values and vectors from CORR\n",
        "# eigenvalues, eigenvectors = eig(CORR)\n",
        "\n",
        "# #L = eigenvalues\n",
        "# #W = eigenvectors\n",
        "# eigenvectors"
      ]
    },
    {
      "cell_type": "code",
      "execution_count": null,
      "metadata": {
        "id": "3-OFJQ16y1Qk"
      },
      "outputs": [],
      "source": [
        "# #Compute PEV(m) with for loop\n",
        "# #PEV(m) = (L1+....+Lm)/995\n",
        "# PEV = [] #will hold the PEV values\n",
        "# for m in range(featuresLength):\n",
        "#   pevVal = sum(eigenvalues[0:(m+1)])/featuresLength\n",
        "#   PEV.append(pevVal)\n",
        "\n",
        "# #Scree plot for cumulative PVE vs PC\n",
        "# #sns.set_theme(style=\"darkgrid\")\n",
        "# sns.lineplot(y = PEV, x = range(1,featuresLength+1), color = \"blue\")\n",
        "# plt.plot([0,featuresLength],[0.9,0.9], color = \"red\")\n",
        "\n",
        "# plt.title(\"Proportion of Variance Explained\")\n",
        "# plt.xlabel(\"Principle Components\")\n",
        "# plt.ylabel(\"PVE\")"
      ]
    },
    {
      "cell_type": "code",
      "execution_count": null,
      "metadata": {
        "id": "9SzqGl8bFEAz"
      },
      "outputs": [],
      "source": [
        "# #Need to get the h_low value\n",
        "\n",
        "# #Not sure if sorting eignenvalues is necessary\n",
        "# #Sort eigenvalues\n",
        "# eigenvalues = np.sort(eigenvalues)[::-1] #Sorts the eigenvalues in decreasing order\n",
        "# index = np.argsort(-eigenvalues) #Index for the sorted eigenvalues\n",
        "\n",
        "# #Compute the smallest integer h so that PEV(r)>=90%\n",
        "# #h_low = 103\n",
        "# for i in range(0,200):\n",
        "#   if (PEV[i] >= 0.9):\n",
        "#     print('The smallest integer h so that PEV(r)>=90% is:', i + 1)\n",
        "#     h_low = i+1\n",
        "#     break"
      ]
    },
    {
      "cell_type": "code",
      "execution_count": null,
      "metadata": {
        "id": "mHVa8BH1UaZM"
      },
      "outputs": [],
      "source": [
        "#To skip doing PEV Calculations\n",
        "h_low = 103"
      ]
    },
    {
      "cell_type": "code",
      "execution_count": null,
      "metadata": {
        "colab": {
          "base_uri": "https://localhost:8080/"
        },
        "id": "6fpBvr0yay1r",
        "outputId": "c900444c-fe8c-4777-cd8a-476130e4e255"
      },
      "outputs": [
        {
          "data": {
            "text/plain": [
              "(50000, 1536)"
            ]
          },
          "execution_count": 37,
          "metadata": {},
          "output_type": "execute_result"
        }
      ],
      "source": [
        "#Not sure what this is for\n",
        "Hid=Hidden(X_train).numpy()\n",
        "Hid.shape"
      ]
    },
    {
      "cell_type": "code",
      "execution_count": null,
      "metadata": {
        "colab": {
          "base_uri": "https://localhost:8080/"
        },
        "id": "EL7P-68DHLM7",
        "outputId": "6b4b602d-ad53-4077-e18e-783ffd1752ad"
      },
      "outputs": [
        {
          "data": {
            "text/plain": [
              "array([[0., 0., 0., ..., 0., 0., 0.],\n",
              "       [0., 0., 0., ..., 0., 0., 0.],\n",
              "       [0., 0., 0., ..., 0., 0., 0.],\n",
              "       ...,\n",
              "       [0., 0., 0., ..., 0., 0., 0.],\n",
              "       [0., 0., 0., ..., 0., 0., 0.],\n",
              "       [0., 0., 0., ..., 0., 0., 0.]], dtype=float32)"
            ]
          },
          "execution_count": 38,
          "metadata": {},
          "output_type": "execute_result"
        }
      ],
      "source": [
        "Hid"
      ]
    },
    {
      "cell_type": "code",
      "execution_count": null,
      "metadata": {
        "id": "4ni7nKodA9Nv"
      },
      "outputs": [],
      "source": [
        "#PCA\n",
        "from sklearn.decomposition import PCA\n",
        "#pca = PCA(n_components=0.9, svd_solver='full')\n",
        "pca = PCA(n_components = h_low)\n",
        "#X_train_pca=pca.fit_transform(Hid,)\n",
        "X_train_pca = pca.fit_transform(X_train)\n",
        "X_test_pca = pca.transform(X_test)"
      ]
    },
    {
      "cell_type": "code",
      "execution_count": null,
      "metadata": {
        "id": "usmr4Mf-skLD"
      },
      "outputs": [],
      "source": [
        "#Automatic Learning\n",
        "h= h_low\n",
        "\n",
        "input = tf.keras.Input(shape= (h_low,))\n",
        "hidden1 = Dense(h_low, activation  = 'relu')(input)\n",
        "output = Dense(10, activation = 'softmax')(hidden1)\n",
        "\n",
        "MLP1 = tf.keras.Model(input, output)\n",
        "Hidden = tf.keras.Model(input, hidden1)"
      ]
    },
    {
      "cell_type": "code",
      "execution_count": null,
      "metadata": {
        "colab": {
          "base_uri": "https://localhost:8080/"
        },
        "id": "ay_l-Lz1K5Lp",
        "outputId": "7f69a951-3910-4f68-8475-2c75e92efd00"
      },
      "outputs": [
        {
          "name": "stdout",
          "output_type": "stream",
          "text": [
            "Epoch 1/50\n",
            "500/500 [==============================] - 4s 7ms/step - loss: 88.7068 - accuracy: 0.2881 - val_loss: 41.0154 - val_accuracy: 0.3350\n",
            "Epoch 2/50\n",
            "500/500 [==============================] - 3s 6ms/step - loss: 28.2178 - accuracy: 0.3545 - val_loss: 21.2104 - val_accuracy: 0.3477\n",
            "Epoch 3/50\n",
            "500/500 [==============================] - 2s 4ms/step - loss: 14.7914 - accuracy: 0.3723 - val_loss: 12.4259 - val_accuracy: 0.3549\n",
            "Epoch 4/50\n",
            "500/500 [==============================] - 2s 3ms/step - loss: 8.7468 - accuracy: 0.3810 - val_loss: 7.7488 - val_accuracy: 0.3580\n",
            "Epoch 5/50\n",
            "500/500 [==============================] - 1s 3ms/step - loss: 5.5921 - accuracy: 0.3820 - val_loss: 5.1924 - val_accuracy: 0.3593\n",
            "Epoch 6/50\n",
            "500/500 [==============================] - 2s 3ms/step - loss: 3.9885 - accuracy: 0.3898 - val_loss: 3.7936 - val_accuracy: 0.3740\n",
            "Epoch 7/50\n",
            "500/500 [==============================] - 1s 3ms/step - loss: 3.0238 - accuracy: 0.3923 - val_loss: 3.1026 - val_accuracy: 0.3707\n",
            "Epoch 8/50\n",
            "500/500 [==============================] - 1s 3ms/step - loss: 2.5477 - accuracy: 0.4010 - val_loss: 2.7391 - val_accuracy: 0.3569\n",
            "Epoch 9/50\n",
            "500/500 [==============================] - 1s 3ms/step - loss: 2.2456 - accuracy: 0.4097 - val_loss: 2.3349 - val_accuracy: 0.3873\n",
            "Epoch 10/50\n",
            "500/500 [==============================] - 2s 3ms/step - loss: 2.0481 - accuracy: 0.4209 - val_loss: 2.0987 - val_accuracy: 0.3924\n",
            "Epoch 11/50\n",
            "500/500 [==============================] - 2s 3ms/step - loss: 1.8904 - accuracy: 0.4312 - val_loss: 1.8919 - val_accuracy: 0.4151\n",
            "Epoch 12/50\n",
            "500/500 [==============================] - 1s 3ms/step - loss: 1.7941 - accuracy: 0.4405 - val_loss: 1.8155 - val_accuracy: 0.4239\n",
            "Epoch 13/50\n",
            "500/500 [==============================] - 1s 3ms/step - loss: 1.6947 - accuracy: 0.4517 - val_loss: 1.7317 - val_accuracy: 0.4422\n",
            "Epoch 14/50\n",
            "500/500 [==============================] - 1s 3ms/step - loss: 1.6220 - accuracy: 0.4645 - val_loss: 1.7144 - val_accuracy: 0.4324\n",
            "Epoch 15/50\n",
            "500/500 [==============================] - 1s 3ms/step - loss: 1.5638 - accuracy: 0.4744 - val_loss: 1.6523 - val_accuracy: 0.4522\n",
            "Epoch 16/50\n",
            "500/500 [==============================] - 2s 3ms/step - loss: 1.5235 - accuracy: 0.4800 - val_loss: 1.6450 - val_accuracy: 0.4516\n",
            "Epoch 17/50\n",
            "500/500 [==============================] - 1s 3ms/step - loss: 1.5106 - accuracy: 0.4844 - val_loss: 1.5769 - val_accuracy: 0.4588\n",
            "Epoch 18/50\n",
            "500/500 [==============================] - 1s 3ms/step - loss: 1.5022 - accuracy: 0.4854 - val_loss: 1.6572 - val_accuracy: 0.4374\n",
            "Epoch 19/50\n",
            "500/500 [==============================] - 1s 3ms/step - loss: 1.4995 - accuracy: 0.4886 - val_loss: 1.5808 - val_accuracy: 0.4594\n",
            "Epoch 20/50\n",
            "500/500 [==============================] - 1s 3ms/step - loss: 1.5120 - accuracy: 0.4837 - val_loss: 1.6074 - val_accuracy: 0.4497\n",
            "Epoch 21/50\n",
            "500/500 [==============================] - 2s 3ms/step - loss: 1.5033 - accuracy: 0.4850 - val_loss: 1.5294 - val_accuracy: 0.4794\n",
            "Epoch 22/50\n",
            "500/500 [==============================] - 2s 3ms/step - loss: 1.4986 - accuracy: 0.4887 - val_loss: 1.5483 - val_accuracy: 0.4776\n",
            "Epoch 23/50\n",
            "500/500 [==============================] - 2s 3ms/step - loss: 1.5032 - accuracy: 0.4876 - val_loss: 1.5903 - val_accuracy: 0.4590\n",
            "Epoch 24/50\n",
            "500/500 [==============================] - 2s 3ms/step - loss: 1.5044 - accuracy: 0.4841 - val_loss: 1.5882 - val_accuracy: 0.4672\n",
            "Epoch 25/50\n",
            "500/500 [==============================] - 1s 3ms/step - loss: 1.5091 - accuracy: 0.4873 - val_loss: 1.6335 - val_accuracy: 0.4609\n",
            "Epoch 26/50\n",
            "500/500 [==============================] - 1s 3ms/step - loss: 1.5115 - accuracy: 0.4843 - val_loss: 1.5565 - val_accuracy: 0.4767\n",
            "Epoch 27/50\n",
            "500/500 [==============================] - 1s 3ms/step - loss: 1.4977 - accuracy: 0.4838 - val_loss: 1.5819 - val_accuracy: 0.4647\n",
            "Epoch 28/50\n",
            "500/500 [==============================] - 1s 3ms/step - loss: 1.4957 - accuracy: 0.4881 - val_loss: 1.5351 - val_accuracy: 0.4690\n",
            "Epoch 29/50\n",
            "500/500 [==============================] - 1s 3ms/step - loss: 1.5003 - accuracy: 0.4911 - val_loss: 1.5826 - val_accuracy: 0.4622\n",
            "Epoch 30/50\n",
            "500/500 [==============================] - 1s 3ms/step - loss: 1.4980 - accuracy: 0.4920 - val_loss: 1.5561 - val_accuracy: 0.4675\n",
            "Epoch 31/50\n",
            "500/500 [==============================] - 1s 3ms/step - loss: 1.4870 - accuracy: 0.4939 - val_loss: 1.5868 - val_accuracy: 0.4691\n",
            "Epoch 32/50\n",
            "500/500 [==============================] - 1s 3ms/step - loss: 1.4941 - accuracy: 0.4946 - val_loss: 1.5143 - val_accuracy: 0.4873\n",
            "Epoch 33/50\n",
            "500/500 [==============================] - 1s 3ms/step - loss: 1.4929 - accuracy: 0.4917 - val_loss: 1.5453 - val_accuracy: 0.4783\n",
            "Epoch 34/50\n",
            "500/500 [==============================] - 1s 3ms/step - loss: 1.4919 - accuracy: 0.4929 - val_loss: 1.5641 - val_accuracy: 0.4649\n",
            "Epoch 35/50\n",
            "500/500 [==============================] - 1s 3ms/step - loss: 1.4874 - accuracy: 0.4929 - val_loss: 1.5590 - val_accuracy: 0.4701\n",
            "Epoch 36/50\n",
            "500/500 [==============================] - 1s 3ms/step - loss: 1.4834 - accuracy: 0.4944 - val_loss: 1.6117 - val_accuracy: 0.4675\n",
            "Epoch 37/50\n",
            "500/500 [==============================] - 1s 3ms/step - loss: 1.4896 - accuracy: 0.4953 - val_loss: 1.5593 - val_accuracy: 0.4590\n",
            "Epoch 38/50\n",
            "500/500 [==============================] - 1s 3ms/step - loss: 1.4850 - accuracy: 0.4975 - val_loss: 1.5642 - val_accuracy: 0.4630\n",
            "Epoch 39/50\n",
            "500/500 [==============================] - 1s 3ms/step - loss: 1.4754 - accuracy: 0.4943 - val_loss: 1.5908 - val_accuracy: 0.4763\n",
            "Epoch 40/50\n",
            "500/500 [==============================] - 2s 3ms/step - loss: 1.4806 - accuracy: 0.4979 - val_loss: 1.5407 - val_accuracy: 0.4823\n",
            "Epoch 41/50\n",
            "500/500 [==============================] - 1s 3ms/step - loss: 1.4841 - accuracy: 0.4951 - val_loss: 1.5424 - val_accuracy: 0.4821\n",
            "Epoch 42/50\n",
            "500/500 [==============================] - 1s 3ms/step - loss: 1.4844 - accuracy: 0.4964 - val_loss: 1.5980 - val_accuracy: 0.4599\n",
            "Epoch 43/50\n",
            "500/500 [==============================] - 1s 3ms/step - loss: 1.4781 - accuracy: 0.4956 - val_loss: 1.5653 - val_accuracy: 0.4676\n",
            "Epoch 44/50\n",
            "500/500 [==============================] - 1s 3ms/step - loss: 1.4705 - accuracy: 0.4999 - val_loss: 1.5752 - val_accuracy: 0.4607\n",
            "Epoch 45/50\n",
            "500/500 [==============================] - 1s 3ms/step - loss: 1.4769 - accuracy: 0.4963 - val_loss: 1.5819 - val_accuracy: 0.4651\n",
            "Epoch 46/50\n",
            "500/500 [==============================] - 1s 3ms/step - loss: 1.4741 - accuracy: 0.4975 - val_loss: 1.5549 - val_accuracy: 0.4746\n",
            "Epoch 47/50\n",
            "500/500 [==============================] - 1s 3ms/step - loss: 1.4799 - accuracy: 0.4969 - val_loss: 1.6530 - val_accuracy: 0.4572\n",
            "Epoch 48/50\n",
            "500/500 [==============================] - 1s 3ms/step - loss: 1.4746 - accuracy: 0.4997 - val_loss: 1.5978 - val_accuracy: 0.4539\n",
            "Epoch 49/50\n",
            "500/500 [==============================] - 1s 3ms/step - loss: 1.4731 - accuracy: 0.4980 - val_loss: 1.5373 - val_accuracy: 0.4827\n",
            "Epoch 50/50\n",
            "500/500 [==============================] - 1s 3ms/step - loss: 1.4694 - accuracy: 0.5009 - val_loss: 1.5573 - val_accuracy: 0.4687\n"
          ]
        }
      ],
      "source": [
        "#Only took 1 minute!\n",
        "MLP1.compile(loss = 'CategoricalCrossentropy', optimizer = 'adam', metrics = ['accuracy'])\n",
        "history = MLP1.fit(X_train_pca, trueOUT_train, epochs=50, batch_size = 100, verbose = 1, validation_data = (X_test_pca, trueOUT_test))"
      ]
    },
    {
      "cell_type": "code",
      "execution_count": null,
      "metadata": {
        "colab": {
          "base_uri": "https://localhost:8080/",
          "height": 590
        },
        "id": "F6lmZyqfNl5t",
        "outputId": "86fd7e19-bec1-4c26-c5ba-9ab9bda8f33f"
      },
      "outputs": [
        {
          "name": "stdout",
          "output_type": "stream",
          "text": [
            "dict_keys(['loss', 'accuracy', 'val_loss', 'val_accuracy'])\n"
          ]
        },
        {
          "data": {
            "image/png": "[encoded data removed]",
            "text/plain": [
              "<Figure size 432x288 with 1 Axes>"
            ]
          },
          "metadata": {},
          "output_type": "display_data"
        },
        {
          "data": {
            "image/png": "[encoded data removed]",
            "text/plain": [
              "<Figure size 432x288 with 1 Axes>"
            ]
          },
          "metadata": {},
          "output_type": "display_data"
        }
      ],
      "source": [
        "print(history.history.keys())\n",
        "\n",
        "#Acuracy graph not required?\n",
        "plt.plot(history.history['accuracy'])\n",
        "plt.plot(history.history['val_accuracy'])\n",
        "plt.title('model accuracy')\n",
        "plt.ylabel('accuracy')\n",
        "plt.xlabel('epoch')\n",
        "plt.legend(['train', 'test'], loc='upper left')\n",
        "plt.show()\n",
        "\n",
        "plt.plot(history.history['loss'])\n",
        "plt.plot(history.history['val_loss'])\n",
        "plt.title('loss function')\n",
        "plt.ylabel('loss function')\n",
        "plt.xlabel('epoch')\n",
        "plt.legend(['train', 'test'], loc='upper left')\n",
        "plt.show()"
      ]
    },
    {
      "cell_type": "code",
      "execution_count": null,
      "metadata": {
        "colab": {
          "base_uri": "https://localhost:8080/",
          "height": 1000
        },
        "id": "yLJxDPGexm7J",
        "outputId": "11b8ce78-5ee1-4b4e-ad01-c054d47788bc"
      },
      "outputs": [
        {
          "data": {
            "image/png": "[encoded data removed]",
            "text/plain": [
              "<Figure size 1440x720 with 1 Axes>"
            ]
          },
          "metadata": {},
          "output_type": "display_data"
        },
        {
          "data": {
            "image/png": "[encoded data removed]",
            "text/plain": [
              "<Figure size 1440x720 with 1 Axes>"
            ]
          },
          "metadata": {},
          "output_type": "display_data"
        }
      ],
      "source": [
        "# Larger view of graph\n",
        "plt.figure(figsize=(20,10))\n",
        "plt.plot(history.history['accuracy'])\n",
        "plt.plot(history.history['val_accuracy'])\n",
        "plt.title('model accuracy')\n",
        "plt.ylabel('accuracy')\n",
        "plt.xlabel('epoch')\n",
        "plt.legend(['train', 'test'], loc='upper left')\n",
        "plt.show()\n",
        "\n",
        "plt.figure(figsize=(20,10))\n",
        "plt.plot(history.history['loss'])\n",
        "plt.plot(history.history['val_loss'])\n",
        "plt.title('loss function')\n",
        "plt.ylabel('loss function')\n",
        "plt.xlabel('epoch')\n",
        "plt.legend(['train', 'test'], loc='upper left')\n",
        "plt.show()"
      ]
    },
    {
      "cell_type": "code",
      "execution_count": null,
      "metadata": {
        "colab": {
          "base_uri": "https://localhost:8080/",
          "height": 1000
        },
        "id": "Xw_6BJ661nhu",
        "outputId": "89de6c63-732e-4293-c330-6f7caeb9cc0f"
      },
      "outputs": [
        {
          "name": "stdout",
          "output_type": "stream",
          "text": [
            "Epoch 1/50\n",
            "500/500 [==============================] - 2s 3ms/step - loss: 92.4074 - accuracy: 0.2798 - val_loss: 42.0851 - val_accuracy: 0.3238\n",
            "Epoch 2/50\n",
            "500/500 [==============================] - 1s 3ms/step - loss: 29.4993 - accuracy: 0.3478 - val_loss: 22.5141 - val_accuracy: 0.3411\n",
            "Epoch 3/50\n",
            "500/500 [==============================] - 1s 3ms/step - loss: 16.5194 - accuracy: 0.3652 - val_loss: 15.2073 - val_accuracy: 0.3384\n",
            "Epoch 4/50\n",
            "500/500 [==============================] - 1s 3ms/step - loss: 10.4680 - accuracy: 0.3737 - val_loss: 9.1547 - val_accuracy: 0.3520\n",
            "Epoch 5/50\n",
            "500/500 [==============================] - 2s 3ms/step - loss: 7.0947 - accuracy: 0.3821 - val_loss: 7.5578 - val_accuracy: 0.3173\n",
            "Epoch 6/50\n",
            "500/500 [==============================] - 1s 3ms/step - loss: 5.1598 - accuracy: 0.3861 - val_loss: 5.1446 - val_accuracy: 0.3547\n",
            "Epoch 7/50\n",
            "500/500 [==============================] - 1s 3ms/step - loss: 4.0082 - accuracy: 0.3903 - val_loss: 4.0874 - val_accuracy: 0.3426\n",
            "Epoch 8/50\n",
            "500/500 [==============================] - 1s 3ms/step - loss: 3.1776 - accuracy: 0.3966 - val_loss: 3.1161 - val_accuracy: 0.3823\n",
            "Epoch 9/50\n",
            "500/500 [==============================] - 1s 3ms/step - loss: 2.7520 - accuracy: 0.4020 - val_loss: 2.7236 - val_accuracy: 0.3920\n",
            "Epoch 10/50\n",
            "500/500 [==============================] - 2s 3ms/step - loss: 2.3759 - accuracy: 0.4123 - val_loss: 2.4723 - val_accuracy: 0.3964\n",
            "Epoch 11/50\n",
            "500/500 [==============================] - 1s 3ms/step - loss: 2.1805 - accuracy: 0.4200 - val_loss: 2.1392 - val_accuracy: 0.4076\n",
            "Epoch 12/50\n",
            "500/500 [==============================] - 1s 3ms/step - loss: 2.0264 - accuracy: 0.4279 - val_loss: 2.0740 - val_accuracy: 0.4085\n",
            "Epoch 13/50\n",
            "500/500 [==============================] - 1s 3ms/step - loss: 1.8368 - accuracy: 0.4419 - val_loss: 1.9163 - val_accuracy: 0.4182\n",
            "Epoch 14/50\n",
            "500/500 [==============================] - 1s 3ms/step - loss: 1.7424 - accuracy: 0.4506 - val_loss: 1.7767 - val_accuracy: 0.4356\n",
            "Epoch 15/50\n",
            "500/500 [==============================] - 1s 3ms/step - loss: 1.6748 - accuracy: 0.4591 - val_loss: 1.8029 - val_accuracy: 0.4317\n",
            "Epoch 16/50\n",
            "500/500 [==============================] - 2s 3ms/step - loss: 1.5895 - accuracy: 0.4707 - val_loss: 1.6818 - val_accuracy: 0.4509\n",
            "Epoch 17/50\n",
            "500/500 [==============================] - 1s 3ms/step - loss: 1.5485 - accuracy: 0.4800 - val_loss: 1.6198 - val_accuracy: 0.4601\n",
            "Epoch 18/50\n",
            "500/500 [==============================] - 1s 3ms/step - loss: 1.5184 - accuracy: 0.4860 - val_loss: 1.6342 - val_accuracy: 0.4536\n",
            "Epoch 19/50\n",
            "500/500 [==============================] - 1s 3ms/step - loss: 1.5075 - accuracy: 0.4872 - val_loss: 1.6456 - val_accuracy: 0.4475\n",
            "Epoch 20/50\n",
            "500/500 [==============================] - 1s 3ms/step - loss: 1.5079 - accuracy: 0.4826 - val_loss: 1.5894 - val_accuracy: 0.4723\n",
            "Epoch 21/50\n",
            "500/500 [==============================] - 1s 3ms/step - loss: 1.4917 - accuracy: 0.4902 - val_loss: 1.5590 - val_accuracy: 0.4721\n",
            "Epoch 22/50\n",
            "500/500 [==============================] - 1s 3ms/step - loss: 1.4907 - accuracy: 0.4897 - val_loss: 1.5474 - val_accuracy: 0.4813\n",
            "Epoch 23/50\n",
            "500/500 [==============================] - 1s 3ms/step - loss: 1.5079 - accuracy: 0.4880 - val_loss: 1.5815 - val_accuracy: 0.4646\n",
            "Epoch 24/50\n",
            "500/500 [==============================] - 1s 3ms/step - loss: 1.5015 - accuracy: 0.4874 - val_loss: 1.5915 - val_accuracy: 0.4503\n"
          ]
        },
        {
          "data": {
            "image/png": "[encoded data removed]",
            "text/plain": [
              "<Figure size 432x288 with 1 Axes>"
            ]
          },
          "metadata": {},
          "output_type": "display_data"
        },
        {
          "data": {
            "image/png": "[encoded data removed]",
            "text/plain": [
              "<Figure size 432x288 with 1 Axes>"
            ]
          },
          "metadata": {},
          "output_type": "display_data"
        }
      ],
      "source": [
        "# Finding mSTOP\n",
        "from tensorflow.keras.callbacks import EarlyStopping\n",
        "custom_early_stopping = EarlyStopping(\n",
        "    monitor='loss', \n",
        "    min_delta=0.01, \n",
        "    patience = 3,\n",
        "    mode = 'auto'\n",
        ")\n",
        "\n",
        "input = tf.keras.Input(shape= (h_low,))\n",
        "hidden1 = Dense(h_low, activation  = 'relu')(input)\n",
        "output = Dense(10, activation = 'softmax')(hidden1)\n",
        "\n",
        "MLP_low = tf.keras.Model(input, output)\n",
        "Hidden = tf.keras.Model(input, hidden1)\n",
        "\n",
        "MLP_low.compile(loss = 'CategoricalCrossentropy', optimizer = 'adam', metrics = ['accuracy'])\n",
        "history_low = MLP_low.fit(X_train_pca, trueOUT_train, epochs=50, batch_size = 100, verbose = 1, validation_data = (X_test_pca, trueOUT_test), callbacks=[custom_early_stopping])\n",
        "\n",
        "\n",
        "plt.plot(history_low.history['accuracy'])\n",
        "plt.plot(history_low.history['val_accuracy'])\n",
        "plt.title('model accuracy')\n",
        "plt.ylabel('accuracy')\n",
        "plt.xlabel('epoch')\n",
        "plt.legend(['train', 'test'], loc='upper left')\n",
        "plt.show()\n",
        "\n",
        "\n",
        "plt.plot(history_low.history['loss'])\n",
        "plt.plot(history_low.history['val_loss'])\n",
        "plt.title('loss function')\n",
        "plt.ylabel('loss function')\n",
        "plt.xlabel('epoch')\n",
        "plt.legend(['train', 'test'], loc='upper left')\n",
        "plt.show()"
      ]
    },
    {
      "cell_type": "code",
      "execution_count": null,
      "metadata": {
        "colab": {
          "base_uri": "https://localhost:8080/"
        },
        "id": "ItqgBHNpQKUa",
        "outputId": "e3def75b-003e-40fb-90fa-742429a485a1"
      },
      "outputs": [
        {
          "name": "stdout",
          "output_type": "stream",
          "text": [
            "24\n"
          ]
        }
      ],
      "source": [
        "mSTOP = len(history_low.history['loss'])\n",
        "print(mSTOP)"
      ]
    },
    {
      "cell_type": "code",
      "execution_count": null,
      "metadata": {
        "colab": {
          "base_uri": "https://localhost:8080/"
        },
        "id": "f7NTL_v47lSH",
        "outputId": "0c5a59eb-fb81-433e-bdfb-2d205d1c69c4"
      },
      "outputs": [
        {
          "data": {
            "text/plain": [
              "array([[0.62, 0.07, 0.05, 0.02, 0.03, 0.01, 0.01, 0.02, 0.1 , 0.07],\n",
              "       [0.03, 0.67, 0.01, 0.01, 0.01, 0.02, 0.01, 0.02, 0.05, 0.16],\n",
              "       [0.09, 0.03, 0.27, 0.12, 0.13, 0.13, 0.06, 0.1 , 0.03, 0.05],\n",
              "       [0.04, 0.02, 0.06, 0.43, 0.05, 0.22, 0.06, 0.07, 0.01, 0.05],\n",
              "       [0.03, 0.02, 0.12, 0.07, 0.44, 0.07, 0.07, 0.14, 0.01, 0.02],\n",
              "       [0.02, 0.01, 0.05, 0.25, 0.04, 0.48, 0.03, 0.1 , 0.01, 0.02],\n",
              "       [0.01, 0.03, 0.09, 0.13, 0.09, 0.08, 0.5 , 0.03, 0.01, 0.03],\n",
              "       [0.03, 0.01, 0.03, 0.04, 0.06, 0.07, 0.01, 0.69, 0.01, 0.04],\n",
              "       [0.12, 0.07, 0.02, 0.03, 0.02, 0.02, 0.01, 0.01, 0.61, 0.07],\n",
              "       [0.04, 0.21, 0.01, 0.03, 0.01, 0.01, 0.01, 0.03, 0.04, 0.62]])"
            ]
          },
          "execution_count": 46,
          "metadata": {},
          "output_type": "execute_result"
        }
      ],
      "source": [
        "# Model prediction on training dataset\n",
        "predict_train = MLP_low(X_train_pca)\n",
        "Prediction_train=np.argmax(predict_train, axis=1)\n",
        "Prediction_train\n",
        "\n",
        "conf_mat_train = tf.math.confusion_matrix(Prediction_train, y_train_orig)\n",
        "conf_mat_train\n",
        "\n",
        "# Confusion matrix of accuracy on training data\n",
        "acc_conf_mat_train = np.ndarray(0)\n",
        "for i in range(len(conf_mat_train.numpy())):\n",
        "  j = conf_mat_train.numpy()[i]/sum(conf_mat_train.numpy()[i])\n",
        "  j = np.round(j,2)\n",
        "  acc_conf_mat_train = np.append(acc_conf_mat_train,j)\n",
        "acc_conf_mat_train.reshape(10,10)"
      ]
    },
    {
      "cell_type": "code",
      "execution_count": null,
      "metadata": {
        "colab": {
          "base_uri": "https://localhost:8080/"
        },
        "id": "NTrUUGpF-HQo",
        "outputId": "17ac9f61-4392-498b-b9f1-dd7a70a0c838"
      },
      "outputs": [
        {
          "data": {
            "text/plain": [
              "array([[0.55, 0.09, 0.06, 0.02, 0.04, 0.02, 0.01, 0.02, 0.11, 0.08],\n",
              "       [0.03, 0.63, 0.02, 0.02, 0.01, 0.02, 0.02, 0.01, 0.06, 0.18],\n",
              "       [0.09, 0.03, 0.24, 0.13, 0.13, 0.13, 0.05, 0.12, 0.03, 0.05],\n",
              "       [0.03, 0.03, 0.06, 0.35, 0.04, 0.27, 0.08, 0.08, 0.01, 0.05],\n",
              "       [0.04, 0.02, 0.14, 0.08, 0.41, 0.07, 0.1 , 0.11, 0.01, 0.02],\n",
              "       [0.02, 0.02, 0.05, 0.26, 0.06, 0.41, 0.03, 0.12, 0.01, 0.02],\n",
              "       [0.02, 0.03, 0.1 , 0.12, 0.1 , 0.08, 0.46, 0.04, 0.01, 0.03],\n",
              "       [0.02, 0.01, 0.04, 0.05, 0.07, 0.1 , 0.02, 0.62, 0.01, 0.06],\n",
              "       [0.16, 0.08, 0.02, 0.03, 0.03, 0.03, 0.02, 0.02, 0.54, 0.07],\n",
              "       [0.03, 0.21, 0.02, 0.03, 0.01, 0.01, 0.01, 0.02, 0.07, 0.58]])"
            ]
          },
          "execution_count": 47,
          "metadata": {},
          "output_type": "execute_result"
        }
      ],
      "source": [
        "# Model prediction on test dataset\n",
        "predict_test = MLP_low(X_test_pca)\n",
        "Prediction_test=np.argmax(predict_test, axis=1)\n",
        "Prediction_test\n",
        "\n",
        "conf_mat_test = tf.math.confusion_matrix(Prediction_test, y_test_orig)\n",
        "conf_mat_test\n",
        "\n",
        "# Confusion matrix of accuracy on test data\n",
        "acc_conf_mat_test = np.ndarray(0)\n",
        "for i in range(len(conf_mat_test.numpy())):\n",
        "  j = conf_mat_test.numpy()[i]/sum(conf_mat_test.numpy()[i])\n",
        "  j = np.round(j,2)\n",
        "  acc_conf_mat_test = np.append(acc_conf_mat_test,j)\n",
        "acc_conf_mat_test.reshape(10,10)"
      ]
    },
    {
      "cell_type": "code",
      "execution_count": null,
      "metadata": {
        "id": "kzFB2yR9XeZI"
      },
      "outputs": [],
      "source": [
        "#^ Is the best epoch around 5?"
      ]
    },
    {
      "cell_type": "code",
      "execution_count": null,
      "metadata": {
        "id": "SS8_TKyeRI7w"
      },
      "outputs": [],
      "source": [
        "#StabTrain\n"
      ]
    },
    {
      "cell_type": "code",
      "execution_count": null,
      "metadata": {
        "id": "yF5qjATSRwEi"
      },
      "outputs": [],
      "source": [
        "#MinTest"
      ]
    },
    {
      "cell_type": "code",
      "execution_count": null,
      "metadata": {
        "id": "1CQH9DOnRxYP"
      },
      "outputs": [],
      "source": [
        "#SafeZone"
      ]
    },
    {
      "cell_type": "code",
      "execution_count": null,
      "metadata": {
        "id": "-URl3nOhRyrK"
      },
      "outputs": [],
      "source": [
        "#SafeMinTest"
      ]
    },
    {
      "cell_type": "code",
      "execution_count": null,
      "metadata": {
        "id": "5-zuBIorR4ch"
      },
      "outputs": [],
      "source": [
        "#m = mSTOP\n",
        "#MLP_low"
      ]
    },
    {
      "cell_type": "markdown",
      "metadata": {
        "id": "OI7hrmiBW5j1"
      },
      "source": [
        "#Q3"
      ]
    },
    {
      "cell_type": "code",
      "execution_count": null,
      "metadata": {
        "id": "xyx2fhdF94Bj"
      },
      "outputs": [],
      "source": [
        "#Function to seperate into classes:\n",
        "def getClass(y_data, X_data, oneHot):\n",
        "  temp = y_data[:] == oneHot\n",
        "  a = []\n",
        "  for i in temp:\n",
        "    a.append(i.all())\n",
        "  return X_data[a]\n"
      ]
    },
    {
      "cell_type": "code",
      "execution_count": null,
      "metadata": {
        "id": "FdAnjbRQB2W2"
      },
      "outputs": [],
      "source": [
        "#Function to combine train and test\n",
        "def combineData(train, test):\n",
        "  x1 = pd.DataFrame(train)\n",
        "  x2 = pd.DataFrame(test)\n",
        "  X = pd.concat([x1, x2])\n",
        "  return X"
      ]
    },
    {
      "cell_type": "code",
      "execution_count": null,
      "metadata": {
        "id": "YpIBeyPPDUrR"
      },
      "outputs": [],
      "source": [
        "#Function to get entire class data\n",
        "def getClassData(X_train, y_train, X_test, y_test, oneHot):\n",
        "  #Function to seperate into classes:\n",
        "  def getClass(y_data, X_data, oneHot):\n",
        "    temp = y_data[:] == oneHot\n",
        "    a = []\n",
        "    for i in temp:\n",
        "      a.append(i.all())\n",
        "    return X_data[a]\n",
        "  #Function to combine train and test\n",
        "  def combineData(train, test):\n",
        "    x1 = pd.DataFrame(train)\n",
        "    x2 = pd.DataFrame(test)\n",
        "    X = pd.concat([x1, x2])\n",
        "    return X\n",
        "  return combineData(getClass(y_train,X_train, oneHot), getClass(y_test, X_test, oneHot))\n",
        "\n"
      ]
    },
    {
      "cell_type": "code",
      "execution_count": null,
      "metadata": {
        "id": "g68A8XS4AijL"
      },
      "outputs": [],
      "source": [
        "#Define what classes are\n",
        "CL1_label =  [1., 0., 0., 0., 0., 0., 0., 0., 0., 0.]\n",
        "CL2_label =  [0., 1., 0., 0., 0., 0., 0., 0., 0., 0.]\n",
        "CL3_label =  [0., 0., 1., 0., 0., 0., 0., 0., 0., 0.]\n",
        "CL4_label =  [0., 0., 0., 1., 0., 0., 0., 0., 0., 0.]\n",
        "CL5_label =  [0., 0., 0., 0., 1., 0., 0., 0., 0., 0.]\n",
        "CL6_label =  [0., 0., 0., 0., 0., 1., 0., 0., 0., 0.]\n",
        "CL7_label =  [0., 0., 0., 0., 0., 0., 1., 0., 0., 0.]\n",
        "CL8_label =  [0., 0., 0., 0., 0., 0., 0., 1., 0., 0.]\n",
        "CL9_label =  [0., 0., 0., 0., 0., 0., 0., 0., 1., 0.]\n",
        "CL10_label =  [0., 0., 0., 0., 0., 0., 0., 0., 0., 1.]"
      ]
    },
    {
      "cell_type": "code",
      "execution_count": null,
      "metadata": {
        "id": "NGkYLHC-Y334"
      },
      "outputs": [],
      "source": [
        "#Going to seperate the data into classes first\n",
        "CL1 = getClassData(X_train, trueOUT_train, X_test, trueOUT_test, CL1_label)\n",
        "CL2 = getClassData(X_train, trueOUT_train, X_test, trueOUT_test, CL2_label)\n",
        "CL3 = getClassData(X_train, trueOUT_train, X_test, trueOUT_test, CL3_label)\n",
        "CL4 = getClassData(X_train, trueOUT_train, X_test, trueOUT_test, CL4_label)\n",
        "CL5 = getClassData(X_train, trueOUT_train, X_test, trueOUT_test, CL5_label)\n",
        "CL6 = getClassData(X_train, trueOUT_train, X_test, trueOUT_test, CL6_label)\n",
        "CL7 = getClassData(X_train, trueOUT_train, X_test, trueOUT_test, CL7_label)\n",
        "CL8 = getClassData(X_train, trueOUT_train, X_test, trueOUT_test, CL8_label)\n",
        "CL9 = getClassData(X_train, trueOUT_train, X_test, trueOUT_test, CL9_label)\n",
        "CL10 = getClassData(X_train, trueOUT_train, X_test, trueOUT_test, CL10_label)"
      ]
    },
    {
      "cell_type": "code",
      "execution_count": null,
      "metadata": {
        "id": "QdaRvtkIIli2"
      },
      "outputs": [],
      "source": [
        "from sklearn import preprocessing"
      ]
    },
    {
      "cell_type": "code",
      "execution_count": null,
      "metadata": {
        "id": "nkQywMsrzC9Z"
      },
      "outputs": [],
      "source": [
        "#Function for getting h:\n",
        "def getPEV(X):\n",
        "  #Need to make X scaled first\n",
        "  scaler = preprocessing.StandardScaler().fit(X)\n",
        "  x_scaled = scaler.transform(X)\n",
        "  X_scaled = pd.DataFrame(scaler.transform(X))\n",
        "  CORR = X_scaled.corr()\n",
        "\n",
        "  #Compute eigen values and vectors from CORR\n",
        "  eigenvalues, eigenvectors = eig(CORR)\n",
        "\n",
        "  #L = eigenvalues\n",
        "  #W = eigenvectors\n",
        "  eigenvectors\n",
        "\n",
        "  #Compute PEV(m) with for loop\n",
        "  #PEV(m) = (L1+....+Lm)/995\n",
        "  PEV = [] #will hold the PEV values\n",
        "  for m in range(featuresLength):\n",
        "    pevVal = sum(eigenvalues[0:(m+1)])/featuresLength\n",
        "    PEV.append(pevVal)\n",
        "\n",
        "  #Need to get the h_low value\n",
        "\n",
        "  #Not sure if sorting eignenvalues is necessary\n",
        "  #Sort eigenvalues\n",
        "  eigenvalues = np.sort(eigenvalues)[::-1] #Sorts the eigenvalues in decreasing order\n",
        "  index = np.argsort(-eigenvalues) #Index for the sorted eigenvalues\n",
        "\n",
        "  #Compute the smallest integer h so that PEV(r)>=90%\n",
        "  #h_low = 103\n",
        "  for i in range(3072):\n",
        "    if (PEV[i] >= 0.9):\n",
        "      #print('The smallest integer h so that PEV(r)>=90% is:', i + 1)\n",
        "      h = i+1\n",
        "      break\n",
        "\n",
        "  return h, PEV"
      ]
    },
    {
      "cell_type": "markdown",
      "metadata": {
        "id": "-ngl8ixWpwfi"
      },
      "source": [
        "## PVE Graphs for CL1 - CL10"
      ]
    },
    {
      "cell_type": "code",
      "execution_count": null,
      "metadata": {
        "id": "pvAakWg1JCAv"
      },
      "outputs": [],
      "source": [
        "#Took only 3 min\n",
        "#PCA Analysis for CL1\n",
        "\n",
        "#Get PEV and h value\n",
        "h1, PEV1 = getPEV(CL1)\n",
        "\n"
      ]
    },
    {
      "cell_type": "code",
      "execution_count": null,
      "metadata": {
        "colab": {
          "base_uri": "https://localhost:8080/",
          "height": 312
        },
        "id": "DdrMCtLlKVg0",
        "outputId": "91386602-2500-4529-c1a0-8cae95eeaf21"
      },
      "outputs": [
        {
          "data": {
            "image/png": "[encoded data removed]",
            "text/plain": [
              "<Figure size 432x288 with 1 Axes>"
            ]
          },
          "metadata": {},
          "output_type": "display_data"
        },
        {
          "name": "stdout",
          "output_type": "stream",
          "text": [
            "The smallest integer h1 so that PEV(r)>=90% is: 75\n"
          ]
        }
      ],
      "source": [
        "#Scree plot for cumulative PVE vs PC\n",
        "#sns.set_theme(style=\"darkgrid\")\n",
        "sns.lineplot(y = PEV1, x = range(1,featuresLength+1), color = \"blue\")\n",
        "plt.plot([0,featuresLength],[0.9,0.9], color = \"red\")\n",
        "\n",
        "plt.title(\"Proportion of Variance Explained for CL1\")\n",
        "plt.xlabel(\"Principle Components\")\n",
        "plt.ylabel(\"PVE\")\n",
        "plt.show()\n",
        "\n",
        "print('The smallest integer h1 so that PEV(r)>=90% is:', h1)"
      ]
    },
    {
      "cell_type": "code",
      "execution_count": null,
      "metadata": {
        "id": "VTlrEOstMWWg"
      },
      "outputs": [],
      "source": [
        "#PCA Analysis for CL2\n",
        "#took 3 min\n",
        "#Get PEV and h value\n",
        "h2, PEV2 = getPEV(CL2)"
      ]
    },
    {
      "cell_type": "code",
      "execution_count": null,
      "metadata": {
        "colab": {
          "base_uri": "https://localhost:8080/",
          "height": 312
        },
        "id": "Y-uL5hgjMUbP",
        "outputId": "4eb47bba-8b34-4b12-8dc7-6ba593341e22"
      },
      "outputs": [
        {
          "data": {
            "image/png": "[encoded data removed]",
            "text/plain": [
              "<Figure size 432x288 with 1 Axes>"
            ]
          },
          "metadata": {},
          "output_type": "display_data"
        },
        {
          "name": "stdout",
          "output_type": "stream",
          "text": [
            "The smallest integer h2 so that PEV(r)>=90% is: 123\n"
          ]
        }
      ],
      "source": [
        "#Scree plot for cumulative PVE vs PC\n",
        "#sns.set_theme(style=\"darkgrid\")\n",
        "sns.lineplot(y = PEV2, x = range(1,featuresLength+1), color = \"blue\")\n",
        "plt.plot([0,featuresLength],[0.9,0.9], color = \"red\")\n",
        "\n",
        "plt.title(\"Proportion of Variance Explained for CL2\")\n",
        "plt.xlabel(\"Principle Components\")\n",
        "plt.ylabel(\"PVE\")\n",
        "plt.show()\n",
        "\n",
        "print('The smallest integer h2 so that PEV(r)>=90% is:', h2)"
      ]
    },
    {
      "cell_type": "code",
      "execution_count": null,
      "metadata": {
        "id": "5qMxy9gKMMxX"
      },
      "outputs": [],
      "source": [
        "#PCA Analysis for CL3\n",
        "#took 3 min\n",
        "#Get PEV and h value\n",
        "h3, PEV3 = getPEV(CL3)"
      ]
    },
    {
      "cell_type": "code",
      "execution_count": null,
      "metadata": {
        "colab": {
          "base_uri": "https://localhost:8080/",
          "height": 312
        },
        "id": "pPI2gWfUN0Jc",
        "outputId": "1dc0f179-d74f-419a-cfc2-ec8d03788583"
      },
      "outputs": [
        {
          "data": {
            "image/png": "[encoded data removed]",
            "text/plain": [
              "<Figure size 432x288 with 1 Axes>"
            ]
          },
          "metadata": {},
          "output_type": "display_data"
        },
        {
          "name": "stdout",
          "output_type": "stream",
          "text": [
            "The smallest integer h3 so that PEV(r)>=90% is: 87\n"
          ]
        }
      ],
      "source": [
        "#Scree plot for cumulative PVE vs PC\n",
        "#sns.set_theme(style=\"darkgrid\")\n",
        "sns.lineplot(y = PEV3, x = range(1,featuresLength+1), color = \"blue\")\n",
        "plt.plot([0,featuresLength],[0.9,0.9], color = \"red\")\n",
        "\n",
        "plt.title(\"Proportion of Variance Explained for CL3\")\n",
        "plt.xlabel(\"Principle Components\")\n",
        "plt.ylabel(\"PVE\")\n",
        "plt.show()\n",
        "\n",
        "print('The smallest integer h3 so that PEV(r)>=90% is:', h3)"
      ]
    },
    {
      "cell_type": "code",
      "execution_count": null,
      "metadata": {
        "id": "iexDQMieO80I"
      },
      "outputs": [],
      "source": [
        "#PCA Analysis for CL4\n",
        "#took 3 min\n",
        "#Get PEV and h value\n",
        "h4, PEV4 = getPEV(CL4)"
      ]
    },
    {
      "cell_type": "code",
      "execution_count": null,
      "metadata": {
        "colab": {
          "base_uri": "https://localhost:8080/",
          "height": 312
        },
        "id": "E7CDkJ_bPDR6",
        "outputId": "bd7e6290-c9dc-4f4d-d458-02caa760d811"
      },
      "outputs": [
        {
          "data": {
            "image/png": "[encoded data removed]",
            "text/plain": [
              "<Figure size 432x288 with 1 Axes>"
            ]
          },
          "metadata": {},
          "output_type": "display_data"
        },
        {
          "name": "stdout",
          "output_type": "stream",
          "text": [
            "The smallest integer h4 so that PEV(r)>=90% is: 83\n"
          ]
        }
      ],
      "source": [
        "#Scree plot for cumulative PVE vs PC\n",
        "#sns.set_theme(style=\"darkgrid\")\n",
        "sns.lineplot(y = PEV4, x = range(1,featuresLength+1), color = \"blue\")\n",
        "plt.plot([0,featuresLength],[0.9,0.9], color = \"red\")\n",
        "\n",
        "plt.title(\"Proportion of Variance Explained for CL4\")\n",
        "plt.xlabel(\"Principle Components\")\n",
        "plt.ylabel(\"PVE\")\n",
        "plt.show()\n",
        "\n",
        "print('The smallest integer h4 so that PEV(r)>=90% is:', h4)"
      ]
    },
    {
      "cell_type": "code",
      "execution_count": null,
      "metadata": {
        "id": "WveRJCIhPRIO"
      },
      "outputs": [],
      "source": [
        "#PCA Analysis for CL5\n",
        "#took 3 min\n",
        "#Get PEV and h value\n",
        "h5, PEV5 = getPEV(CL5)"
      ]
    },
    {
      "cell_type": "code",
      "execution_count": null,
      "metadata": {
        "colab": {
          "base_uri": "https://localhost:8080/",
          "height": 312
        },
        "id": "NVZG7mmXQJU9",
        "outputId": "b2cd6ac6-bf34-474a-8b55-3da265bceb07"
      },
      "outputs": [
        {
          "data": {
            "image/png": "[encoded data removed]",
            "text/plain": [
              "<Figure size 432x288 with 1 Axes>"
            ]
          },
          "metadata": {},
          "output_type": "display_data"
        },
        {
          "name": "stdout",
          "output_type": "stream",
          "text": [
            "The smallest integer h5 so that PEV(r)>=90% is: 103\n"
          ]
        }
      ],
      "source": [
        "#Scree plot for cumulative PVE vs PC\n",
        "#sns.set_theme(style=\"darkgrid\")\n",
        "sns.lineplot(y = PEV5, x = range(1,featuresLength+1), color = \"blue\")\n",
        "plt.plot([0,featuresLength],[0.9,0.9], color = \"red\")\n",
        "\n",
        "plt.title(\"Proportion of Variance Explained for CL5\")\n",
        "plt.xlabel(\"Principle Components\")\n",
        "plt.ylabel(\"PVE\")\n",
        "plt.show()\n",
        "\n",
        "print('The smallest integer h5 so that PEV(r)>=90% is:', h5)"
      ]
    },
    {
      "cell_type": "code",
      "execution_count": null,
      "metadata": {
        "id": "dADX0JYLQQu7"
      },
      "outputs": [],
      "source": [
        "#PCA Analysis for CL6\n",
        "#took 3 min\n",
        "#Get PEV and h value\n",
        "h6, PEV6 = getPEV(CL6)"
      ]
    },
    {
      "cell_type": "code",
      "execution_count": null,
      "metadata": {
        "colab": {
          "base_uri": "https://localhost:8080/",
          "height": 312
        },
        "id": "e9LhUcXiRJYT",
        "outputId": "ddcd9ac6-c364-4d42-c139-faacf3e1c99b"
      },
      "outputs": [
        {
          "data": {
            "image/png": "[encoded data removed]",
            "text/plain": [
              "<Figure size 432x288 with 1 Axes>"
            ]
          },
          "metadata": {},
          "output_type": "display_data"
        },
        {
          "name": "stdout",
          "output_type": "stream",
          "text": [
            "The smallest integer h6 so that PEV(r)>=90% is: 91\n"
          ]
        }
      ],
      "source": [
        "#Scree plot for cumulative PVE vs PC\n",
        "#sns.set_theme(style=\"darkgrid\")\n",
        "sns.lineplot(y = PEV6, x = range(1,featuresLength+1), color = \"blue\")\n",
        "plt.plot([0,featuresLength],[0.9,0.9], color = \"red\")\n",
        "\n",
        "plt.title(\"Proportion of Variance Explained for CL6\")\n",
        "plt.xlabel(\"Principle Components\")\n",
        "plt.ylabel(\"PVE\")\n",
        "plt.show()\n",
        "\n",
        "print('The smallest integer h6 so that PEV(r)>=90% is:', h6)"
      ]
    },
    {
      "cell_type": "code",
      "execution_count": null,
      "metadata": {
        "colab": {
          "background_save": true
        },
        "id": "nO8TE2PeRR71"
      },
      "outputs": [],
      "source": [
        "#PCA Analysis for CL7\n",
        "#took 3 min\n",
        "#Get PEV and h value\n",
        "h7, PEV7 = getPEV(CL7)"
      ]
    },
    {
      "cell_type": "code",
      "execution_count": null,
      "metadata": {
        "colab": {
          "background_save": true
        },
        "id": "8vv7ZVdqSO25"
      },
      "outputs": [],
      "source": [
        "#Scree plot for cumulative PVE vs PC\n",
        "#sns.set_theme(style=\"darkgrid\")\n",
        "sns.lineplot(y = PEV7, x = range(1,featuresLength+1), color = \"blue\")\n",
        "plt.plot([0,featuresLength],[0.9,0.9], color = \"red\")\n",
        "\n",
        "plt.title(\"Proportion of Variance Explained for CL7\")\n",
        "plt.xlabel(\"Principle Components\")\n",
        "plt.ylabel(\"PVE\")\n",
        "plt.show()\n",
        "\n",
        "print('The smallest integer h7 so that PEV(r)>=90% is:', h7)"
      ]
    },
    {
      "cell_type": "code",
      "execution_count": null,
      "metadata": {
        "colab": {
          "background_save": true
        },
        "id": "6yJMXagCSU2-"
      },
      "outputs": [],
      "source": [
        "#PCA Analysis for CL8\n",
        "#took 3 min\n",
        "#Get PEV and h value\n",
        "h8, PEV8 = getPEV(CL8)"
      ]
    },
    {
      "cell_type": "code",
      "execution_count": null,
      "metadata": {
        "colab": {
          "background_save": true
        },
        "id": "oM5sveYxTUki",
        "outputId": "4c27c033-9654-48fd-fa97-d7bdf1138f2e"
      },
      "outputs": [
        {
          "data": {
            "image/png": "[encoded data removed]",
            "text/plain": [
              "<Figure size 432x288 with 1 Axes>"
            ]
          },
          "metadata": {},
          "output_type": "display_data"
        },
        {
          "name": "stdout",
          "output_type": "stream",
          "text": [
            "The smallest integer h8 so that PEV(r)>=90% is: 116\n"
          ]
        }
      ],
      "source": [
        "#Scree plot for cumulative PVE vs PC\n",
        "#sns.set_theme(style=\"darkgrid\")\n",
        "sns.lineplot(y = PEV8, x = range(1,featuresLength+1), color = \"blue\")\n",
        "plt.plot([0,featuresLength],[0.9,0.9], color = \"red\")\n",
        "\n",
        "plt.title(\"Proportion of Variance Explained for CL8\")\n",
        "plt.xlabel(\"Principle Components\")\n",
        "plt.ylabel(\"PVE\")\n",
        "plt.show()\n",
        "\n",
        "print('The smallest integer h8 so that PEV(r)>=90% is:', h8)"
      ]
    },
    {
      "cell_type": "code",
      "execution_count": null,
      "metadata": {
        "colab": {
          "background_save": true
        },
        "id": "Z4Ke6e6LTfsP"
      },
      "outputs": [],
      "source": [
        "#PCA Analysis for CL9\n",
        "#took 3 min\n",
        "#Get PEV and h value\n",
        "h9, PEV9 = getPEV(CL9)"
      ]
    },
    {
      "cell_type": "code",
      "execution_count": null,
      "metadata": {
        "colab": {
          "background_save": true,
          "base_uri": "https://localhost:8080/",
          "height": 312
        },
        "id": "Md4UnyoIUZSp",
        "outputId": "aa626d21-d4a1-4b10-8e29-75f2d929a3b2"
      },
      "outputs": [
        {
          "data": {
            "image/png": "[encoded data removed]",
            "text/plain": [
              "<Figure size 432x288 with 1 Axes>"
            ]
          },
          "metadata": {},
          "output_type": "display_data"
        },
        {
          "name": "stdout",
          "output_type": "stream",
          "text": [
            "The smallest integer h9 so that PEV(r)>=90% is: 77\n"
          ]
        }
      ],
      "source": [
        "#Scree plot for cumulative PVE vs PC\n",
        "#sns.set_theme(style=\"darkgrid\")\n",
        "sns.lineplot(y = PEV9, x = range(1,featuresLength+1), color = \"blue\")\n",
        "plt.plot([0,featuresLength],[0.9,0.9], color = \"red\")\n",
        "\n",
        "plt.title(\"Proportion of Variance Explained for CL9\")\n",
        "plt.xlabel(\"Principle Components\")\n",
        "plt.ylabel(\"PVE\")\n",
        "plt.show()\n",
        "\n",
        "print('The smallest integer h9 so that PEV(r)>=90% is:', h9)"
      ]
    },
    {
      "cell_type": "code",
      "execution_count": null,
      "metadata": {
        "colab": {
          "background_save": true
        },
        "id": "PZei1sTQUfHB"
      },
      "outputs": [],
      "source": [
        "#PCA Analysis for CL10\n",
        "#took 3 min\n",
        "#Get PEV and h value\n",
        "h10, PEV10 = getPEV(CL10)"
      ]
    },
    {
      "cell_type": "code",
      "execution_count": null,
      "metadata": {
        "colab": {
          "background_save": true
        },
        "id": "cxrqgIxNVSQO",
        "outputId": "a9e8928c-0707-4fdd-aa27-60ae979b878d"
      },
      "outputs": [
        {
          "data": {
            "image/png": "[encoded data removed]",
            "text/plain": [
              "<Figure size 432x288 with 1 Axes>"
            ]
          },
          "metadata": {},
          "output_type": "display_data"
        },
        {
          "name": "stdout",
          "output_type": "stream",
          "text": [
            "The smallest integer h10 so that PEV(r)>=90% is: 137\n"
          ]
        }
      ],
      "source": [
        "#Scree plot for cumulative PVE vs PC\n",
        "#sns.set_theme(style=\"darkgrid\")\n",
        "sns.lineplot(y = PEV10, x = range(1,featuresLength+1), color = \"blue\")\n",
        "plt.plot([0,featuresLength],[0.9,0.9], color = \"red\")\n",
        "\n",
        "plt.title(\"Proportion of Variance Explained for CL10\")\n",
        "plt.xlabel(\"Principle Components\")\n",
        "plt.ylabel(\"PVE\")\n",
        "plt.show()\n",
        "\n",
        "print('The smallest integer h10 so that PEV(r)>=90% is:', h10)"
      ]
    },
    {
      "cell_type": "code",
      "execution_count": null,
      "metadata": {
        "colab": {
          "background_save": true
        },
        "id": "MRcTTf77ZiyA",
        "outputId": "2806dfac-8ef9-496b-8b75-31a02834b7e3"
      },
      "outputs": [
        {
          "data": {
            "image/png": "[encoded data removed]",
            "text/plain": [
              "<Figure size 432x288 with 1 Axes>"
            ]
          },
          "metadata": {},
          "output_type": "display_data"
        }
      ],
      "source": [
        "#Scree plot for cumulative PVE vs PC\n",
        "#sns.set_theme(style=\"darkgrid\")\n",
        "sns.lineplot(y =PEV1, x = range(1,featuresLength+1))\n",
        "sns.lineplot(y =PEV2, x = range(1,featuresLength+1))\n",
        "sns.lineplot(y =PEV3, x = range(1,featuresLength+1))\n",
        "sns.lineplot(y =PEV4, x = range(1,featuresLength+1))\n",
        "sns.lineplot(y =PEV5, x = range(1,featuresLength+1))\n",
        "sns.lineplot(y =PEV6, x = range(1,featuresLength+1))\n",
        "sns.lineplot(y =PEV7, x = range(1,featuresLength+1))\n",
        "sns.lineplot(y =PEV8, x = range(1,featuresLength+1))\n",
        "sns.lineplot(y =PEV9, x = range(1,featuresLength+1))\n",
        "sns.lineplot(y = PEV10, x = range(1,featuresLength+1))\n",
        "plt.plot([0,featuresLength],[0.9,0.9], color = \"red\")\n",
        "\n",
        "plt.title(\"Proportion of Variance Explained for All Classes\")\n",
        "plt.xlabel(\"Principle Components\")\n",
        "plt.ylabel(\"PVE\")\n",
        "plt.show()\n"
      ]
    },
    {
      "cell_type": "markdown",
      "metadata": {
        "id": "ZjSnn6PTp9H6"
      },
      "source": [
        "## PCA Using h_high"
      ]
    },
    {
      "cell_type": "code",
      "execution_count": null,
      "metadata": {
        "colab": {
          "background_save": true
        },
        "id": "_K3NZO4QX1g8",
        "outputId": "64ca0e21-76de-4c82-ba27-ce9293be587a"
      },
      "outputs": [
        {
          "data": {
            "text/plain": [
              "1028"
            ]
          },
          "execution_count": null,
          "metadata": {},
          "output_type": "execute_result"
        }
      ],
      "source": [
        "#Define H_high\n",
        "h_high = h1+h2+h3+h4+h5+h6+h7+h8+h9+h10\n",
        "h_high"
      ]
    },
    {
      "cell_type": "code",
      "execution_count": null,
      "metadata": {
        "colab": {
          "background_save": true
        },
        "id": "Eb90YkbZZM3z"
      },
      "outputs": [],
      "source": [
        "h_high = 1028"
      ]
    },
    {
      "cell_type": "code",
      "execution_count": null,
      "metadata": {
        "colab": {
          "background_save": true
        },
        "id": "Own1_VdOZUkg"
      },
      "outputs": [],
      "source": [
        "#PCA\n",
        "#takes 2 min\n",
        "from sklearn.decomposition import PCA\n",
        "#pca = PCA(n_components=0.9, svd_solver='full')\n",
        "pca = PCA(n_components = h_high)\n",
        "#X_train_pca=pca.fit_transform(Hid,)\n",
        "X_train_pca_high = pca.fit_transform(X_train)\n",
        "X_test_pca_high = pca.transform(X_test)"
      ]
    },
    {
      "cell_type": "code",
      "execution_count": null,
      "metadata": {
        "colab": {
          "background_save": true
        },
        "id": "bdbMhwBpcBsy"
      },
      "outputs": [],
      "source": [
        "#Automatic Learning\n",
        "\n",
        "input = tf.keras.Input(shape= (h_high,))\n",
        "hidden1 = Dense(h_high, activation  = 'relu')(input)\n",
        "output = Dense(10, activation = 'softmax')(hidden1)\n",
        "\n",
        "MLP1 = tf.keras.Model(input, output)\n",
        "Hidden = tf.keras.Model(input, hidden1)"
      ]
    },
    {
      "cell_type": "code",
      "execution_count": null,
      "metadata": {
        "colab": {
          "background_save": true,
          "base_uri": "https://localhost:8080/"
        },
        "id": "g1gFpk1acGpD",
        "outputId": "25853897-5019-4ee0-c98f-edea33dd89e2"
      },
      "outputs": [
        {
          "name": "stdout",
          "output_type": "stream",
          "text": [
            "Epoch 1/50\n",
            "500/500 [==============================] - 10s 19ms/step - loss: 49.1625 - accuracy: 0.3607 - val_loss: 29.9099 - val_accuracy: 0.4099\n",
            "Epoch 2/50\n",
            "500/500 [==============================] - 10s 19ms/step - loss: 14.8827 - accuracy: 0.5390 - val_loss: 18.8091 - val_accuracy: 0.4172\n",
            "Epoch 3/50\n",
            "500/500 [==============================] - 9s 19ms/step - loss: 8.0072 - accuracy: 0.6134 - val_loss: 16.4947 - val_accuracy: 0.4152\n",
            "Epoch 4/50\n",
            "500/500 [==============================] - 9s 19ms/step - loss: 5.8623 - accuracy: 0.6613 - val_loss: 14.6627 - val_accuracy: 0.4337\n",
            "Epoch 5/50\n",
            "500/500 [==============================] - 9s 19ms/step - loss: 5.3373 - accuracy: 0.6788 - val_loss: 16.9989 - val_accuracy: 0.4164\n",
            "Epoch 6/50\n",
            "500/500 [==============================] - 9s 18ms/step - loss: 5.7494 - accuracy: 0.6834 - val_loss: 16.7522 - val_accuracy: 0.4492\n",
            "Epoch 7/50\n",
            "500/500 [==============================] - 9s 19ms/step - loss: 5.8721 - accuracy: 0.6920 - val_loss: 19.0302 - val_accuracy: 0.4285\n",
            "Epoch 8/50\n",
            "500/500 [==============================] - 9s 18ms/step - loss: 6.2673 - accuracy: 0.7036 - val_loss: 20.6385 - val_accuracy: 0.4291\n",
            "Epoch 9/50\n",
            "500/500 [==============================] - 9s 18ms/step - loss: 6.2424 - accuracy: 0.7206 - val_loss: 22.9678 - val_accuracy: 0.4455\n",
            "Epoch 10/50\n",
            "500/500 [==============================] - 9s 18ms/step - loss: 6.2639 - accuracy: 0.7429 - val_loss: 26.7478 - val_accuracy: 0.4387\n",
            "Epoch 11/50\n",
            "500/500 [==============================] - 9s 18ms/step - loss: 6.1152 - accuracy: 0.7604 - val_loss: 28.9854 - val_accuracy: 0.4513\n",
            "Epoch 12/50\n",
            "500/500 [==============================] - 9s 18ms/step - loss: 6.5380 - accuracy: 0.7729 - val_loss: 32.9727 - val_accuracy: 0.4407\n",
            "Epoch 13/50\n",
            "500/500 [==============================] - 9s 18ms/step - loss: 6.1495 - accuracy: 0.7966 - val_loss: 37.3028 - val_accuracy: 0.4468\n",
            "Epoch 14/50\n",
            "500/500 [==============================] - 9s 18ms/step - loss: 5.8719 - accuracy: 0.8158 - val_loss: 37.3163 - val_accuracy: 0.4632\n",
            "Epoch 15/50\n",
            "500/500 [==============================] - 9s 18ms/step - loss: 6.1361 - accuracy: 0.8245 - val_loss: 43.9968 - val_accuracy: 0.4596\n",
            "Epoch 16/50\n",
            "500/500 [==============================] - 9s 19ms/step - loss: 5.9904 - accuracy: 0.8412 - val_loss: 47.8493 - val_accuracy: 0.4583\n",
            "Epoch 17/50\n",
            "500/500 [==============================] - 9s 19ms/step - loss: 5.7671 - accuracy: 0.8564 - val_loss: 50.0972 - val_accuracy: 0.4736\n",
            "Epoch 18/50\n",
            "500/500 [==============================] - 9s 19ms/step - loss: 5.6866 - accuracy: 0.8655 - val_loss: 52.3161 - val_accuracy: 0.4850\n",
            "Epoch 19/50\n",
            "500/500 [==============================] - 9s 19ms/step - loss: 5.2755 - accuracy: 0.8798 - val_loss: 65.1698 - val_accuracy: 0.4565\n",
            "Epoch 20/50\n",
            "500/500 [==============================] - 9s 19ms/step - loss: 5.6473 - accuracy: 0.8808 - val_loss: 68.8359 - val_accuracy: 0.4750\n",
            "Epoch 21/50\n",
            "500/500 [==============================] - 9s 18ms/step - loss: 5.4394 - accuracy: 0.8924 - val_loss: 71.8075 - val_accuracy: 0.4772\n",
            "Epoch 22/50\n",
            "500/500 [==============================] - 9s 18ms/step - loss: 5.3054 - accuracy: 0.9002 - val_loss: 75.4831 - val_accuracy: 0.4763\n",
            "Epoch 23/50\n",
            "500/500 [==============================] - 9s 19ms/step - loss: 5.4309 - accuracy: 0.9027 - val_loss: 80.2573 - val_accuracy: 0.4898\n",
            "Epoch 24/50\n",
            "500/500 [==============================] - 9s 19ms/step - loss: 5.3073 - accuracy: 0.9109 - val_loss: 88.2284 - val_accuracy: 0.4708\n",
            "Epoch 25/50\n",
            "500/500 [==============================] - 9s 19ms/step - loss: 5.2619 - accuracy: 0.9139 - val_loss: 95.1237 - val_accuracy: 0.4796\n",
            "Epoch 26/50\n",
            "500/500 [==============================] - 9s 19ms/step - loss: 5.0471 - accuracy: 0.9218 - val_loss: 94.7880 - val_accuracy: 0.4871\n",
            "Epoch 27/50\n",
            "500/500 [==============================] - 12s 23ms/step - loss: 5.0966 - accuracy: 0.9243 - val_loss: 101.0304 - val_accuracy: 0.4873\n",
            "Epoch 28/50\n",
            "500/500 [==============================] - 9s 19ms/step - loss: 5.0439 - accuracy: 0.9264 - val_loss: 110.3617 - val_accuracy: 0.4793\n",
            "Epoch 29/50\n",
            "500/500 [==============================] - 9s 18ms/step - loss: 4.9229 - accuracy: 0.9314 - val_loss: 115.1943 - val_accuracy: 0.4889\n",
            "Epoch 30/50\n",
            "500/500 [==============================] - 9s 19ms/step - loss: 4.7471 - accuracy: 0.9360 - val_loss: 118.8246 - val_accuracy: 0.4824\n",
            "Epoch 31/50\n",
            "500/500 [==============================] - 9s 18ms/step - loss: 5.0434 - accuracy: 0.9359 - val_loss: 128.7264 - val_accuracy: 0.4815\n",
            "Epoch 32/50\n",
            "500/500 [==============================] - 9s 18ms/step - loss: 4.9049 - accuracy: 0.9389 - val_loss: 129.0506 - val_accuracy: 0.4890\n",
            "Epoch 33/50\n",
            "500/500 [==============================] - 9s 18ms/step - loss: 4.8683 - accuracy: 0.9409 - val_loss: 135.3279 - val_accuracy: 0.4809\n",
            "Epoch 34/50\n",
            "500/500 [==============================] - 9s 18ms/step - loss: 5.0093 - accuracy: 0.9420 - val_loss: 145.7856 - val_accuracy: 0.4893\n",
            "Epoch 35/50\n",
            "500/500 [==============================] - 10s 19ms/step - loss: 4.4646 - accuracy: 0.9486 - val_loss: 150.4118 - val_accuracy: 0.4773\n",
            "Epoch 36/50\n",
            "500/500 [==============================] - 9s 19ms/step - loss: 4.3938 - accuracy: 0.9517 - val_loss: 155.6410 - val_accuracy: 0.4956\n",
            "Epoch 37/50\n",
            "500/500 [==============================] - 10s 20ms/step - loss: 4.7677 - accuracy: 0.9482 - val_loss: 159.3370 - val_accuracy: 0.4959\n",
            "Epoch 38/50\n",
            "500/500 [==============================] - 10s 19ms/step - loss: 4.8305 - accuracy: 0.9500 - val_loss: 167.7702 - val_accuracy: 0.4798\n",
            "Epoch 39/50\n",
            "500/500 [==============================] - 10s 19ms/step - loss: 5.1705 - accuracy: 0.9504 - val_loss: 172.1358 - val_accuracy: 0.4966\n",
            "Epoch 40/50\n",
            "500/500 [==============================] - 9s 19ms/step - loss: 4.1025 - accuracy: 0.9584 - val_loss: 177.1933 - val_accuracy: 0.4916\n",
            "Epoch 41/50\n",
            "500/500 [==============================] - 10s 19ms/step - loss: 4.4576 - accuracy: 0.9576 - val_loss: 189.6606 - val_accuracy: 0.4813\n",
            "Epoch 42/50\n",
            "500/500 [==============================] - 10s 19ms/step - loss: 4.4927 - accuracy: 0.9582 - val_loss: 192.2830 - val_accuracy: 0.4956\n",
            "Epoch 43/50\n",
            "500/500 [==============================] - 9s 19ms/step - loss: 4.7850 - accuracy: 0.9569 - val_loss: 199.5058 - val_accuracy: 0.5003\n",
            "Epoch 44/50\n",
            "500/500 [==============================] - 9s 18ms/step - loss: 4.9917 - accuracy: 0.9574 - val_loss: 201.7457 - val_accuracy: 0.4925\n",
            "Epoch 45/50\n",
            "500/500 [==============================] - 9s 18ms/step - loss: 4.1776 - accuracy: 0.9633 - val_loss: 212.1943 - val_accuracy: 0.4931\n",
            "Epoch 46/50\n",
            "500/500 [==============================] - 9s 19ms/step - loss: 4.8034 - accuracy: 0.9611 - val_loss: 212.0895 - val_accuracy: 0.5003\n",
            "Epoch 47/50\n",
            "500/500 [==============================] - 9s 18ms/step - loss: 4.4708 - accuracy: 0.9625 - val_loss: 222.5697 - val_accuracy: 0.4946\n",
            "Epoch 48/50\n",
            "500/500 [==============================] - 10s 19ms/step - loss: 4.3142 - accuracy: 0.9659 - val_loss: 226.8177 - val_accuracy: 0.4959\n",
            "Epoch 49/50\n",
            "500/500 [==============================] - 10s 19ms/step - loss: 4.1648 - accuracy: 0.9672 - val_loss: 228.5281 - val_accuracy: 0.5020\n",
            "Epoch 50/50\n",
            "500/500 [==============================] - 9s 19ms/step - loss: 4.6892 - accuracy: 0.9632 - val_loss: 243.9356 - val_accuracy: 0.4958\n"
          ]
        }
      ],
      "source": [
        "#Took 7 min\n",
        "MLP1.compile(loss = 'CategoricalCrossentropy', optimizer = 'adam', metrics = ['accuracy'])\n",
        "history = MLP1.fit(X_train_pca_high, trueOUT_train, epochs=50, batch_size = 100, verbose = 1, validation_data = (X_test_pca_high, trueOUT_test))"
      ]
    },
    {
      "cell_type": "code",
      "execution_count": null,
      "metadata": {
        "colab": {
          "background_save": true
        },
        "id": "nocipv5vcMBR",
        "outputId": "88bd1737-27dd-4cbe-a075-8e97bcc50eec"
      },
      "outputs": [
        {
          "name": "stdout",
          "output_type": "stream",
          "text": [
            "dict_keys(['loss', 'accuracy', 'val_loss', 'val_accuracy'])\n"
          ]
        },
        {
          "data": {
            "image/png": "[encoded data removed]",
            "text/plain": [
              "<Figure size 432x288 with 1 Axes>"
            ]
          },
          "metadata": {},
          "output_type": "display_data"
        },
        {
          "data": {
            "image/png": "[encoded data removed]",
            "text/plain": [
              "<Figure size 432x288 with 1 Axes>"
            ]
          },
          "metadata": {},
          "output_type": "display_data"
        }
      ],
      "source": [
        "print(history.history.keys())\n",
        "\n",
        "#Acuracy graph not required?\n",
        "plt.plot(history.history['accuracy'])\n",
        "plt.plot(history.history['val_accuracy'])\n",
        "plt.title('model accuracy')\n",
        "plt.ylabel('accuracy')\n",
        "plt.xlabel('epoch')\n",
        "plt.legend(['train', 'test'], loc='upper left')\n",
        "plt.show()\n",
        "\n",
        "plt.plot(history.history['loss'])\n",
        "plt.plot(history.history['val_loss'])\n",
        "plt.title('loss function')\n",
        "plt.ylabel('loss function')\n",
        "plt.xlabel('epoch')\n",
        "plt.legend(['train', 'test'], loc='upper left')\n",
        "plt.show()"
      ]
    },
    {
      "cell_type": "code",
      "execution_count": null,
      "metadata": {
        "id": "oR_SlMbOQ-PH",
        "outputId": "d0b01b6d-3f23-4fdf-fa92-3315048248b3",
        "colab": {
          "base_uri": "https://localhost:8080/"
        }
      },
      "outputs": [
        {
          "output_type": "stream",
          "name": "stdout",
          "text": [
            "Epoch 1/50\n",
            "500/500 [==============================] - 10s 19ms/step - loss: 48.7206 - accuracy: 0.3634 - val_loss: 29.4271 - val_accuracy: 0.4053\n",
            "Epoch 2/50\n",
            "500/500 [==============================] - 9s 18ms/step - loss: 14.5655 - accuracy: 0.5398 - val_loss: 19.6073 - val_accuracy: 0.4190\n",
            "Epoch 3/50\n",
            "500/500 [==============================] - 9s 18ms/step - loss: 8.1129 - accuracy: 0.6128 - val_loss: 16.5570 - val_accuracy: 0.4323\n",
            "Epoch 4/50\n",
            "500/500 [==============================] - 9s 18ms/step - loss: 5.9977 - accuracy: 0.6561 - val_loss: 16.5465 - val_accuracy: 0.4143\n",
            "Epoch 5/50\n",
            "500/500 [==============================] - 10s 19ms/step - loss: 5.4338 - accuracy: 0.6822 - val_loss: 16.3857 - val_accuracy: 0.4371\n",
            "Epoch 6/50\n",
            "500/500 [==============================] - 10s 19ms/step - loss: 5.6626 - accuracy: 0.6840 - val_loss: 17.1974 - val_accuracy: 0.4362\n",
            "Epoch 7/50\n",
            "500/500 [==============================] - 10s 19ms/step - loss: 5.8768 - accuracy: 0.6933 - val_loss: 20.4871 - val_accuracy: 0.4285\n",
            "Epoch 8/50\n",
            " 86/500 [====>.........................] - ETA: 7s - loss: 4.6033 - accuracy: 0.7449"
          ]
        }
      ],
      "source": [
        "# Finding mSTOP\n",
        "from tensorflow.keras.callbacks import EarlyStopping\n",
        "custom_early_stopping = EarlyStopping(\n",
        "    monitor='loss', \n",
        "    min_delta=0.01, \n",
        "    patience = 3,\n",
        "    mode = 'auto'\n",
        ")\n",
        "\n",
        "input = tf.keras.Input(shape= (h_high,))\n",
        "hidden1 = Dense(h_high, activation  = 'relu')(input)\n",
        "output = Dense(10, activation = 'softmax')(hidden1)\n",
        "\n",
        "MLP_high = tf.keras.Model(input, output)\n",
        "Hidden = tf.keras.Model(input, hidden1)\n",
        "\n",
        "MLP_high.compile(loss = 'CategoricalCrossentropy', optimizer = 'adam', metrics = ['accuracy'])\n",
        "history_high = MLP_high.fit(X_train_pca_high, trueOUT_train, epochs=50, batch_size = 100, verbose = 1, validation_data = (X_test_pca_high, trueOUT_test), callbacks=[custom_early_stopping])"
      ]
    },
    {
      "cell_type": "code",
      "execution_count": null,
      "metadata": {
        "id": "vj8XxamrcKD1",
        "colab": {
          "base_uri": "https://localhost:8080/",
          "height": 573
        },
        "outputId": "422d9abd-f49d-4815-8673-07078efab753"
      },
      "outputs": [
        {
          "output_type": "display_data",
          "data": {
            "image/png": "[encoded data removed]",
            "text/plain": [
              "<Figure size 432x288 with 1 Axes>"
            ]
          },
          "metadata": {
            "needs_background": "light"
          }
        },
        {
          "output_type": "display_data",
          "data": {
            "image/png": "[encoded data removed]",
            "text/plain": [
              "<Figure size 432x288 with 1 Axes>"
            ]
          },
          "metadata": {
            "needs_background": "light"
          }
        }
      ],
      "source": [
        "plt.plot(history_high.history['accuracy'])\n",
        "plt.plot(history_high.history['val_accuracy'])\n",
        "plt.title('model accuracy')\n",
        "plt.ylabel('accuracy')\n",
        "plt.xlabel('epoch')\n",
        "plt.legend(['train', 'test'], loc='upper left')\n",
        "plt.show()\n",
        "\n",
        "\n",
        "plt.plot(history_high.history['loss'])\n",
        "plt.plot(history_high.history['val_loss'])\n",
        "plt.title('loss function')\n",
        "plt.ylabel('loss function')\n",
        "plt.xlabel('epoch')\n",
        "plt.legend(['train', 'test'], loc='upper left')\n",
        "plt.show()"
      ]
    },
    {
      "cell_type": "code",
      "execution_count": null,
      "metadata": {
        "id": "bTu2kDvxcQlZ",
        "colab": {
          "base_uri": "https://localhost:8080/"
        },
        "outputId": "153d6c38-8304-40bb-ae04-b27f03716941"
      },
      "outputs": [
        {
          "output_type": "stream",
          "name": "stdout",
          "text": [
            "8\n"
          ]
        }
      ],
      "source": [
        "mSTOP_high = len(history_high.history['loss'])\n",
        "print(mSTOP_high)"
      ]
    },
    {
      "cell_type": "code",
      "execution_count": null,
      "metadata": {
        "id": "f7zDyPINcV-F",
        "colab": {
          "base_uri": "https://localhost:8080/"
        },
        "outputId": "726cefb8-e890-485b-e5e3-8cb511dbb51b"
      },
      "outputs": [
        {
          "output_type": "execute_result",
          "data": {
            "text/plain": [
              "array([[0.76, 0.02, 0.03, 0.02, 0.02, 0.01, 0.  , 0.02, 0.07, 0.05],\n",
              "       [0.02, 0.71, 0.01, 0.02, 0.01, 0.02, 0.01, 0.01, 0.05, 0.15],\n",
              "       [0.03, 0.01, 0.59, 0.09, 0.06, 0.1 , 0.04, 0.06, 0.01, 0.02],\n",
              "       [0.  , 0.  , 0.02, 0.79, 0.02, 0.1 , 0.02, 0.02, 0.  , 0.02],\n",
              "       [0.03, 0.01, 0.06, 0.06, 0.65, 0.08, 0.03, 0.07, 0.01, 0.01],\n",
              "       [0.  , 0.  , 0.01, 0.1 , 0.01, 0.85, 0.  , 0.02, 0.  , 0.01],\n",
              "       [0.01, 0.01, 0.03, 0.09, 0.02, 0.06, 0.73, 0.02, 0.01, 0.02],\n",
              "       [0.  , 0.  , 0.01, 0.04, 0.02, 0.03, 0.01, 0.87, 0.  , 0.02],\n",
              "       [0.04, 0.02, 0.01, 0.02, 0.01, 0.01, 0.01, 0.01, 0.84, 0.05],\n",
              "       [0.01, 0.02, 0.01, 0.01, 0.  , 0.  , 0.  , 0.01, 0.02, 0.91]])"
            ]
          },
          "metadata": {},
          "execution_count": 91
        }
      ],
      "source": [
        "# Model prediction on training dataset\n",
        "predict_train_high = MLP_high(X_train_pca_high)\n",
        "Prediction_train_high=np.argmax(predict_train_high, axis=1)\n",
        "Prediction_train_high\n",
        "\n",
        "conf_mat_train_high = tf.math.confusion_matrix(Prediction_train_high, y_train_orig)\n",
        "conf_mat_train_high\n",
        "\n",
        "# Confusion matrix of accuracy on training data\n",
        "acc_conf_mat_train_high = np.ndarray(0)\n",
        "for i in range(len(conf_mat_train_high.numpy())):\n",
        "  j = conf_mat_train_high.numpy()[i]/sum(conf_mat_train_high.numpy()[i])\n",
        "  j = np.round(j,2)\n",
        "  acc_conf_mat_train_high = np.append(acc_conf_mat_train_high,j)\n",
        "acc_conf_mat_train_high.reshape(10,10)"
      ]
    },
    {
      "cell_type": "code",
      "execution_count": null,
      "metadata": {
        "id": "RoUb6MTxcck8",
        "colab": {
          "base_uri": "https://localhost:8080/"
        },
        "outputId": "9051e3eb-0122-4810-bdab-9fd30b748046"
      },
      "outputs": [
        {
          "output_type": "execute_result",
          "data": {
            "text/plain": [
              "array([[0.48, 0.05, 0.07, 0.04, 0.05, 0.02, 0.02, 0.05, 0.14, 0.08],\n",
              "       [0.05, 0.45, 0.03, 0.04, 0.01, 0.02, 0.04, 0.04, 0.1 , 0.21],\n",
              "       [0.07, 0.02, 0.29, 0.12, 0.13, 0.13, 0.09, 0.09, 0.02, 0.03],\n",
              "       [0.02, 0.02, 0.07, 0.37, 0.07, 0.24, 0.07, 0.07, 0.02, 0.03],\n",
              "       [0.05, 0.03, 0.13, 0.09, 0.32, 0.1 , 0.1 , 0.12, 0.03, 0.03],\n",
              "       [0.01, 0.02, 0.06, 0.2 , 0.07, 0.46, 0.04, 0.11, 0.03, 0.01],\n",
              "       [0.04, 0.03, 0.09, 0.12, 0.1 , 0.1 , 0.43, 0.04, 0.02, 0.03],\n",
              "       [0.01, 0.02, 0.06, 0.08, 0.1 , 0.09, 0.03, 0.54, 0.02, 0.05],\n",
              "       [0.12, 0.07, 0.02, 0.03, 0.03, 0.02, 0.02, 0.02, 0.59, 0.08],\n",
              "       [0.07, 0.13, 0.01, 0.04, 0.02, 0.03, 0.02, 0.03, 0.05, 0.59]])"
            ]
          },
          "metadata": {},
          "execution_count": 94
        }
      ],
      "source": [
        "# Model prediction on test dataset\n",
        "predict_test_high = MLP_high(X_test_pca_high)\n",
        "Prediction_test_high=np.argmax(predict_test_high, axis=1)\n",
        "Prediction_test_high\n",
        "\n",
        "conf_mat_test_high = tf.math.confusion_matrix(Prediction_test_high, y_test_orig)\n",
        "conf_mat_test_high\n",
        "\n",
        "# Confusion matrix of accuracy on test data\n",
        "acc_conf_mat_test_high = np.ndarray(0)\n",
        "for i in range(len(conf_mat_test_high.numpy())):\n",
        "  j = conf_mat_test_high.numpy()[i]/sum(conf_mat_test_high.numpy()[i])\n",
        "  j = np.round(j,2)\n",
        "  acc_conf_mat_test_high = np.append(acc_conf_mat_test_high,j)\n",
        "acc_conf_mat_test_high.reshape(10,10)"
      ]
    },
    {
      "cell_type": "markdown",
      "metadata": {
        "id": "ozGeMmuwW6mA"
      },
      "source": [
        "#Q4"
      ]
    },
    {
      "cell_type": "code",
      "execution_count": null,
      "metadata": {
        "id": "rU6JdTiKP6js",
        "colab": {
          "base_uri": "https://localhost:8080/"
        },
        "outputId": "153ef0d1-660a-4eb3-84b6-4a6fe103f777"
      },
      "outputs": [
        {
          "output_type": "stream",
          "name": "stdout",
          "text": [
            "Epoch 1/50\n",
            "500/500 [==============================] - 11s 22ms/step - loss: 48.8047 - accuracy: 0.3625 - val_loss: 29.5244 - val_accuracy: 0.3902\n",
            "Epoch 2/50\n",
            "500/500 [==============================] - 9s 18ms/step - loss: 14.6439 - accuracy: 0.5371 - val_loss: 20.1136 - val_accuracy: 0.4075\n",
            "Epoch 3/50\n",
            "500/500 [==============================] - 9s 18ms/step - loss: 7.9250 - accuracy: 0.6158 - val_loss: 15.6115 - val_accuracy: 0.4299\n",
            "Epoch 4/50\n",
            "500/500 [==============================] - 13s 26ms/step - loss: 5.9951 - accuracy: 0.6559 - val_loss: 16.1084 - val_accuracy: 0.4290\n",
            "Epoch 5/50\n",
            "500/500 [==============================] - 16s 32ms/step - loss: 5.8874 - accuracy: 0.6637 - val_loss: 16.6343 - val_accuracy: 0.4470\n",
            "Epoch 6/50\n",
            "500/500 [==============================] - 16s 31ms/step - loss: 5.7103 - accuracy: 0.6835 - val_loss: 17.3035 - val_accuracy: 0.4322\n",
            "Epoch 7/50\n",
            "500/500 [==============================] - 14s 28ms/step - loss: 5.8492 - accuracy: 0.6954 - val_loss: 18.9808 - val_accuracy: 0.4358\n",
            "Epoch 8/50\n",
            "500/500 [==============================] - 9s 18ms/step - loss: 5.8351 - accuracy: 0.7140 - val_loss: 20.2370 - val_accuracy: 0.4407\n",
            "Epoch 9/50\n",
            "500/500 [==============================] - 9s 18ms/step - loss: 6.1293 - accuracy: 0.7257 - val_loss: 23.8021 - val_accuracy: 0.4397\n"
          ]
        }
      ],
      "source": [
        "#Just pasted this here to not have to run the one before w/graphs\n",
        "#MLP_high\n",
        "from tensorflow.keras.callbacks import EarlyStopping\n",
        "custom_early_stopping = EarlyStopping(\n",
        "    monitor='loss', \n",
        "    min_delta=0.01, \n",
        "    patience = 3,\n",
        "    mode = 'auto'\n",
        ")\n",
        "\n",
        "input = tf.keras.Input(shape= (h_high,))\n",
        "hidden1 = Dense(h_high, activation  = 'relu')(input)\n",
        "output = Dense(10, activation = 'softmax')(hidden1)\n",
        "\n",
        "MLP_high = tf.keras.Model(input, output)\n",
        "Hidden = tf.keras.Model(input, hidden1)\n",
        "\n",
        "MLP_high.compile(loss = 'CategoricalCrossentropy', optimizer = 'adam', metrics = ['accuracy'])\n",
        "history_high = MLP_high.fit(X_train_pca_high, trueOUT_train, epochs=50, batch_size = 100, verbose = 1, validation_data = (X_test_pca_high, trueOUT_test), callbacks=[custom_early_stopping])\n",
        "\n"
      ]
    },
    {
      "cell_type": "code",
      "execution_count": null,
      "metadata": {
        "id": "HEt4k_1RP4C0"
      },
      "outputs": [],
      "source": [
        "#Need to find h2"
      ]
    },
    {
      "cell_type": "code",
      "execution_count": null,
      "metadata": {
        "id": "fzPZNOvlX_yA",
        "colab": {
          "base_uri": "https://localhost:8080/"
        },
        "outputId": "5d1dd26e-c31b-4423-ff1a-1ad09503a3f2"
      },
      "outputs": [
        {
          "output_type": "execute_result",
          "data": {
            "text/plain": [
              "(50000, 1028)"
            ]
          },
          "metadata": {},
          "execution_count": 97
        }
      ],
      "source": [
        "Hid=Hidden(X_train_pca_high).numpy()\n",
        "Hid.shape"
      ]
    },
    {
      "cell_type": "code",
      "execution_count": null,
      "metadata": {
        "id": "chCIT0RfPxIj",
        "colab": {
          "base_uri": "https://localhost:8080/"
        },
        "outputId": "c55b3b30-1d1c-43b7-9112-f00378664a70"
      },
      "outputs": [
        {
          "output_type": "execute_result",
          "data": {
            "text/plain": [
              "(50000, 753)"
            ]
          },
          "metadata": {},
          "execution_count": 98
        }
      ],
      "source": [
        "from sklearn.decomposition import PCA\n",
        "pca = PCA(n_components=0.95, svd_solver='full')\n",
        "Zn=pca.fit_transform(Hid,)\n",
        "Zn.shape"
      ]
    },
    {
      "cell_type": "code",
      "execution_count": null,
      "metadata": {
        "id": "HuJhP0stYjeQ"
      },
      "outputs": [],
      "source": [
        "#Got h2 from PCA\n",
        "h2 = 752"
      ]
    },
    {
      "cell_type": "code",
      "execution_count": null,
      "metadata": {
        "id": "p2GCyqGtY4j6",
        "colab": {
          "base_uri": "https://localhost:8080/"
        },
        "outputId": "852cd13e-65bd-4385-87f1-8b4c4c30028d"
      },
      "outputs": [
        {
          "output_type": "stream",
          "name": "stdout",
          "text": [
            "Epoch 1/20\n",
            "500/500 [==============================] - 15s 30ms/step - loss: 1755.2858 - mse: 1755.2858 - val_loss: 43509.7734 - val_mse: 43509.7734\n",
            "Epoch 2/20\n",
            "500/500 [==============================] - 16s 32ms/step - loss: 1120.3458 - mse: 1120.3458 - val_loss: 42105.9414 - val_mse: 42105.9414\n",
            "Epoch 3/20\n",
            "500/500 [==============================] - 27s 53ms/step - loss: 1043.9214 - mse: 1043.9214 - val_loss: 41420.0078 - val_mse: 41420.0078\n",
            "Epoch 4/20\n",
            "500/500 [==============================] - 20s 41ms/step - loss: 1016.8007 - mse: 1016.8008 - val_loss: 41133.6953 - val_mse: 41133.6953\n",
            "Epoch 5/20\n",
            "500/500 [==============================] - 17s 34ms/step - loss: 1003.6954 - mse: 1003.6954 - val_loss: 40733.5664 - val_mse: 40733.5664\n",
            "Epoch 6/20\n",
            "500/500 [==============================] - 24s 47ms/step - loss: 994.7320 - mse: 994.7320 - val_loss: 39783.4570 - val_mse: 39783.4570\n",
            "Epoch 7/20\n",
            "500/500 [==============================] - 23s 46ms/step - loss: 983.1312 - mse: 983.1312 - val_loss: 38741.4922 - val_mse: 38741.4922\n",
            "Epoch 8/20\n",
            "500/500 [==============================] - 21s 41ms/step - loss: 970.9390 - mse: 970.9390 - val_loss: 37855.7305 - val_mse: 37855.7305\n",
            "Epoch 9/20\n",
            "500/500 [==============================] - 24s 49ms/step - loss: 965.6221 - mse: 965.6221 - val_loss: 37119.6094 - val_mse: 37119.6094\n",
            "Epoch 10/20\n",
            "500/500 [==============================] - 21s 42ms/step - loss: 963.5522 - mse: 963.5522 - val_loss: 36217.3438 - val_mse: 36217.3477\n",
            "Epoch 11/20\n",
            "500/500 [==============================] - 15s 29ms/step - loss: 952.8751 - mse: 952.8751 - val_loss: 35218.5391 - val_mse: 35218.5391\n",
            "Epoch 12/20\n",
            "500/500 [==============================] - 15s 30ms/step - loss: 945.1205 - mse: 945.1205 - val_loss: 34758.9844 - val_mse: 34758.9805\n",
            "Epoch 13/20\n",
            "500/500 [==============================] - 16s 32ms/step - loss: 941.1730 - mse: 941.1730 - val_loss: 34162.7305 - val_mse: 34162.7305\n",
            "Epoch 14/20\n",
            "500/500 [==============================] - 15s 30ms/step - loss: 938.4004 - mse: 938.4004 - val_loss: 33998.0898 - val_mse: 33998.0898\n",
            "Epoch 15/20\n",
            "500/500 [==============================] - 16s 32ms/step - loss: 938.3623 - mse: 938.3623 - val_loss: 33820.7031 - val_mse: 33820.7031\n",
            "Epoch 16/20\n",
            "500/500 [==============================] - 15s 30ms/step - loss: 935.4470 - mse: 935.4470 - val_loss: 33799.3945 - val_mse: 33799.3945\n",
            "Epoch 17/20\n",
            "500/500 [==============================] - 15s 30ms/step - loss: 931.9854 - mse: 931.9854 - val_loss: 33778.1758 - val_mse: 33778.1758\n",
            "Epoch 18/20\n",
            "500/500 [==============================] - 15s 30ms/step - loss: 929.5225 - mse: 929.5225 - val_loss: 33774.3789 - val_mse: 33774.3789\n",
            "Epoch 19/20\n",
            "500/500 [==============================] - 19s 39ms/step - loss: 927.6985 - mse: 927.6985 - val_loss: 33877.5508 - val_mse: 33877.5508\n",
            "Epoch 20/20\n",
            "500/500 [==============================] - 17s 34ms/step - loss: 925.3209 - mse: 925.3209 - val_loss: 33819.7070 - val_mse: 33819.7070\n"
          ]
        }
      ],
      "source": [
        "#Construct auto encoder\n",
        "#dimm of L2= h2, dimmL1 = dimmL3 = h_high\n",
        "h_high = 1028\n",
        "\n",
        "auto_input = tf.keras.Input(shape=(h_high,))\n",
        "encoder = Dense(h2, activation='relu')(auto_input)\n",
        "decoder = Dense(h_high, activation='linear')(encoder)\n",
        "\n",
        "Autoencoder = tf.keras.Model(auto_input, decoder)\n",
        "Encoder=tf.keras.Model(auto_input,encoder)\n",
        "\n",
        "# Configure the model and start training\n",
        "Autoencoder.compile(loss='mse', optimizer='adam', metrics=['mse'])\n",
        "history1= Autoencoder.fit(Hid, Hid, epochs=20, batch_size=100, verbose=1, validation_data = (X_test_pca_high, X_test_pca_high)) #validation_split=0.2\n",
        "\n"
      ]
    },
    {
      "cell_type": "code",
      "execution_count": null,
      "metadata": {
        "id": "eLF1Vk66UObh",
        "colab": {
          "base_uri": "https://localhost:8080/",
          "height": 312
        },
        "outputId": "d654a5de-1efe-4f9f-ad23-362304315d8b"
      },
      "outputs": [
        {
          "output_type": "stream",
          "name": "stdout",
          "text": [
            "dict_keys(['loss', 'mse', 'val_loss', 'val_mse'])\n"
          ]
        },
        {
          "output_type": "display_data",
          "data": {
            "image/png": "[encoded data removed]",
            "text/plain": [
              "<Figure size 432x288 with 1 Axes>"
            ]
          },
          "metadata": {
            "needs_background": "light"
          }
        }
      ],
      "source": [
        "print(history1.history.keys())\n",
        "plt.plot(history1.history['loss'])\n",
        "plt.plot(history1.history['val_loss'])\n",
        "plt.title('MSE')\n",
        "plt.ylabel('MSE')\n",
        "plt.xlabel('Epoch')\n",
        "plt.legend(['TrainMSE', 'TestMSE'], loc='upper left')\n",
        "plt.show()"
      ]
    },
    {
      "cell_type": "code",
      "execution_count": null,
      "metadata": {
        "id": "UZaK65JGkJRZ"
      },
      "outputs": [],
      "source": [
        "#Scaling the data\n",
        "scaler = preprocessing.StandardScaler().fit(X)\n",
        "x_scaled = scaler.transform(X)\n",
        "X_scaled = pd.DataFrame(scaler.transform(X))"
      ]
    },
    {
      "cell_type": "code",
      "source": [
        "TrainRMSE = np.sqrt(history1.history['loss'])\n",
        "TestRMSE = np.sqrt(history1.history['val_loss'])\n",
        "\n",
        "plt.plot(TrainRMSE)\n",
        "plt.plot(TestRMSE)\n",
        "plt.title('RMSE')\n",
        "plt.ylabel('RMSE')\n",
        "plt.xlabel('Epoch')\n",
        "plt.legend(['TrainRMSE', 'TestRMSE'], loc='upper left')\n",
        "plt.show()"
      ],
      "metadata": {
        "colab": {
          "base_uri": "https://localhost:8080/",
          "height": 295
        },
        "id": "ARFLmNgF4BK8",
        "outputId": "ce94a041-19ef-4f67-a72a-3aa5467488d1"
      },
      "execution_count": null,
      "outputs": [
        {
          "output_type": "display_data",
          "data": {
            "image/png": "[encoded data removed]",
            "text/plain": [
              "<Figure size 432x288 with 1 Axes>"
            ]
          },
          "metadata": {
            "needs_background": "light"
          }
        }
      ]
    },
    {
      "cell_type": "markdown",
      "metadata": {
        "id": "6BNftYxKW7rE"
      },
      "source": [
        "#Q5"
      ]
    },
    {
      "cell_type": "code",
      "execution_count": 104,
      "metadata": {
        "colab": {
          "base_uri": "https://localhost:8080/"
        },
        "id": "bX-TpCuCwi-T",
        "outputId": "d0be32b4-5f21-4f25-ecc1-e727de708276"
      },
      "outputs": [
        {
          "output_type": "stream",
          "name": "stdout",
          "text": [
            "(50000, 752)\n"
          ]
        }
      ],
      "source": [
        "Kn=Encoder(Hid).numpy()\n",
        "print(Kn.shape)\n"
      ]
    },
    {
      "cell_type": "code",
      "execution_count": 105,
      "metadata": {
        "colab": {
          "base_uri": "https://localhost:8080/"
        },
        "id": "EmC15_iTwwtx",
        "outputId": "62e6ed1f-b536-4fe4-96b7-971fd09a866e"
      },
      "outputs": [
        {
          "output_type": "execute_result",
          "data": {
            "text/plain": [
              "(50000, 202)"
            ]
          },
          "metadata": {},
          "execution_count": 105
        }
      ],
      "source": [
        "#Need to find h3 by PCA of Kn\n",
        "from sklearn.decomposition import PCA\n",
        "pca = PCA(n_components=0.95, svd_solver='full')\n",
        "K=pca.fit_transform(Kn,)\n",
        "K.shape"
      ]
    },
    {
      "cell_type": "code",
      "source": [
        "Hid2=Hidden(X_test_pca_high).numpy()\n",
        "Hid2.shape\n"
      ],
      "metadata": {
        "id": "n0xMH24u6Zn8",
        "colab": {
          "base_uri": "https://localhost:8080/"
        },
        "outputId": "f79f2830-c021-4828-8acb-6933e96ce8c0"
      },
      "execution_count": 106,
      "outputs": [
        {
          "output_type": "execute_result",
          "data": {
            "text/plain": [
              "(10000, 1028)"
            ]
          },
          "metadata": {},
          "execution_count": 106
        }
      ]
    },
    {
      "cell_type": "code",
      "source": [
        "#Get Zn_train and Zn_test\n",
        "from sklearn.decomposition import PCA\n",
        "pca = PCA(n_components=0.95, svd_solver='full')\n",
        "# Zn=pca.fit_transform(Hid,)\n",
        "Zn_train_pca = pca.fit_transform(Hid)\n",
        "Zn_test_pca = pca.transform(Hid2)\n",
        "Zn_train_pca.shape\n",
        "\n"
      ],
      "metadata": {
        "id": "Qnal_1Yj6VLa",
        "colab": {
          "base_uri": "https://localhost:8080/"
        },
        "outputId": "45a02acb-8975-4811-e7eb-1a916ce8421b"
      },
      "execution_count": 107,
      "outputs": [
        {
          "output_type": "execute_result",
          "data": {
            "text/plain": [
              "(50000, 753)"
            ]
          },
          "metadata": {},
          "execution_count": 107
        }
      ]
    },
    {
      "cell_type": "code",
      "execution_count": 108,
      "metadata": {
        "id": "lk3UfwN8xsUj"
      },
      "outputs": [],
      "source": [
        "h3 = 196"
      ]
    },
    {
      "cell_type": "code",
      "execution_count": 109,
      "metadata": {
        "colab": {
          "base_uri": "https://localhost:8080/",
          "height": 623
        },
        "id": "eygsE0GdY5Ls",
        "outputId": "bf0414cc-664c-481e-f683-4e355a14e586"
      },
      "outputs": [
        {
          "output_type": "stream",
          "name": "stdout",
          "text": [
            "Epoch 1/50\n"
          ]
        },
        {
          "output_type": "error",
          "ename": "ValueError",
          "evalue": "ignored",
          "traceback": [
            "\u001b[0;31m---------------------------------------------------------------------------\u001b[0m",
            "\u001b[0;31mValueError\u001b[0m                                Traceback (most recent call last)",
            "\u001b[0;32m<ipython-input-109-781d4ce87c6e>\u001b[0m in \u001b[0;36m<module>\u001b[0;34m()\u001b[0m\n\u001b[1;32m      8\u001b[0m \u001b[0;34m\u001b[0m\u001b[0m\n\u001b[1;32m      9\u001b[0m \u001b[0mMLP2\u001b[0m\u001b[0;34m.\u001b[0m\u001b[0mcompile\u001b[0m\u001b[0;34m(\u001b[0m\u001b[0mloss\u001b[0m\u001b[0;34m=\u001b[0m\u001b[0;34m'CategoricalCrossentropy'\u001b[0m\u001b[0;34m,\u001b[0m \u001b[0moptimizer\u001b[0m\u001b[0;34m=\u001b[0m\u001b[0;34m'adam'\u001b[0m\u001b[0;34m,\u001b[0m \u001b[0mmetrics\u001b[0m\u001b[0;34m=\u001b[0m\u001b[0;34m[\u001b[0m\u001b[0;34m'accuracy'\u001b[0m\u001b[0;34m]\u001b[0m\u001b[0;34m)\u001b[0m\u001b[0;34m\u001b[0m\u001b[0;34m\u001b[0m\u001b[0m\n\u001b[0;32m---> 10\u001b[0;31m \u001b[0mhistory3\u001b[0m\u001b[0;34m=\u001b[0m\u001b[0mMLP2\u001b[0m\u001b[0;34m.\u001b[0m\u001b[0mfit\u001b[0m\u001b[0;34m(\u001b[0m\u001b[0mZn_train_pca\u001b[0m\u001b[0;34m,\u001b[0m \u001b[0mtrueOUT_train\u001b[0m\u001b[0;34m,\u001b[0m \u001b[0mepochs\u001b[0m\u001b[0;34m=\u001b[0m\u001b[0;36m50\u001b[0m\u001b[0;34m,\u001b[0m \u001b[0mbatch_size\u001b[0m\u001b[0;34m=\u001b[0m\u001b[0;36m100\u001b[0m\u001b[0;34m,\u001b[0m \u001b[0mverbose\u001b[0m\u001b[0;34m=\u001b[0m\u001b[0;36m1\u001b[0m\u001b[0;34m,\u001b[0m \u001b[0mvalidation_data\u001b[0m \u001b[0;34m=\u001b[0m \u001b[0;34m(\u001b[0m\u001b[0mZn_test_pca\u001b[0m\u001b[0;34m,\u001b[0m \u001b[0mtrueOUT_test\u001b[0m\u001b[0;34m)\u001b[0m\u001b[0;34m)\u001b[0m \u001b[0;31m# validation_split=0.2\u001b[0m\u001b[0;34m\u001b[0m\u001b[0;34m\u001b[0m\u001b[0m\n\u001b[0m",
            "\u001b[0;32m/usr/local/lib/python3.7/dist-packages/keras/utils/traceback_utils.py\u001b[0m in \u001b[0;36merror_handler\u001b[0;34m(*args, **kwargs)\u001b[0m\n\u001b[1;32m     65\u001b[0m     \u001b[0;32mexcept\u001b[0m \u001b[0mException\u001b[0m \u001b[0;32mas\u001b[0m \u001b[0me\u001b[0m\u001b[0;34m:\u001b[0m  \u001b[0;31m# pylint: disable=broad-except\u001b[0m\u001b[0;34m\u001b[0m\u001b[0;34m\u001b[0m\u001b[0m\n\u001b[1;32m     66\u001b[0m       \u001b[0mfiltered_tb\u001b[0m \u001b[0;34m=\u001b[0m \u001b[0m_process_traceback_frames\u001b[0m\u001b[0;34m(\u001b[0m\u001b[0me\u001b[0m\u001b[0;34m.\u001b[0m\u001b[0m__traceback__\u001b[0m\u001b[0;34m)\u001b[0m\u001b[0;34m\u001b[0m\u001b[0;34m\u001b[0m\u001b[0m\n\u001b[0;32m---> 67\u001b[0;31m       \u001b[0;32mraise\u001b[0m \u001b[0me\u001b[0m\u001b[0;34m.\u001b[0m\u001b[0mwith_traceback\u001b[0m\u001b[0;34m(\u001b[0m\u001b[0mfiltered_tb\u001b[0m\u001b[0;34m)\u001b[0m \u001b[0;32mfrom\u001b[0m \u001b[0;32mNone\u001b[0m\u001b[0;34m\u001b[0m\u001b[0;34m\u001b[0m\u001b[0m\n\u001b[0m\u001b[1;32m     68\u001b[0m     \u001b[0;32mfinally\u001b[0m\u001b[0;34m:\u001b[0m\u001b[0;34m\u001b[0m\u001b[0;34m\u001b[0m\u001b[0m\n\u001b[1;32m     69\u001b[0m       \u001b[0;32mdel\u001b[0m \u001b[0mfiltered_tb\u001b[0m\u001b[0;34m\u001b[0m\u001b[0;34m\u001b[0m\u001b[0m\n",
            "\u001b[0;32m/usr/local/lib/python3.7/dist-packages/tensorflow/python/framework/func_graph.py\u001b[0m in \u001b[0;36mautograph_handler\u001b[0;34m(*args, **kwargs)\u001b[0m\n\u001b[1;32m   1145\u001b[0m           \u001b[0;32mexcept\u001b[0m \u001b[0mException\u001b[0m \u001b[0;32mas\u001b[0m \u001b[0me\u001b[0m\u001b[0;34m:\u001b[0m  \u001b[0;31m# pylint:disable=broad-except\u001b[0m\u001b[0;34m\u001b[0m\u001b[0;34m\u001b[0m\u001b[0m\n\u001b[1;32m   1146\u001b[0m             \u001b[0;32mif\u001b[0m \u001b[0mhasattr\u001b[0m\u001b[0;34m(\u001b[0m\u001b[0me\u001b[0m\u001b[0;34m,\u001b[0m \u001b[0;34m\"ag_error_metadata\"\u001b[0m\u001b[0;34m)\u001b[0m\u001b[0;34m:\u001b[0m\u001b[0;34m\u001b[0m\u001b[0;34m\u001b[0m\u001b[0m\n\u001b[0;32m-> 1147\u001b[0;31m               \u001b[0;32mraise\u001b[0m \u001b[0me\u001b[0m\u001b[0;34m.\u001b[0m\u001b[0mag_error_metadata\u001b[0m\u001b[0;34m.\u001b[0m\u001b[0mto_exception\u001b[0m\u001b[0;34m(\u001b[0m\u001b[0me\u001b[0m\u001b[0;34m)\u001b[0m\u001b[0;34m\u001b[0m\u001b[0;34m\u001b[0m\u001b[0m\n\u001b[0m\u001b[1;32m   1148\u001b[0m             \u001b[0;32melse\u001b[0m\u001b[0;34m:\u001b[0m\u001b[0;34m\u001b[0m\u001b[0;34m\u001b[0m\u001b[0m\n\u001b[1;32m   1149\u001b[0m               \u001b[0;32mraise\u001b[0m\u001b[0;34m\u001b[0m\u001b[0;34m\u001b[0m\u001b[0m\n",
            "\u001b[0;31mValueError\u001b[0m: in user code:\n\n    File \"/usr/local/lib/python3.7/dist-packages/keras/engine/training.py\", line 1021, in train_function  *\n        return step_function(self, iterator)\n    File \"/usr/local/lib/python3.7/dist-packages/keras/engine/training.py\", line 1010, in step_function  **\n        outputs = model.distribute_strategy.run(run_step, args=(data,))\n    File \"/usr/local/lib/python3.7/dist-packages/keras/engine/training.py\", line 1000, in run_step  **\n        outputs = model.train_step(data)\n    File \"/usr/local/lib/python3.7/dist-packages/keras/engine/training.py\", line 859, in train_step\n        y_pred = self(x, training=True)\n    File \"/usr/local/lib/python3.7/dist-packages/keras/utils/traceback_utils.py\", line 67, in error_handler\n        raise e.with_traceback(filtered_tb) from None\n    File \"/usr/local/lib/python3.7/dist-packages/keras/engine/input_spec.py\", line 264, in assert_input_compatibility\n        raise ValueError(f'Input {input_index} of layer \"{layer_name}\" is '\n\n    ValueError: Input 0 of layer \"model_14\" is incompatible with the layer: expected shape=(None, 752), found shape=(100, 753)\n"
          ]
        }
      ],
      "source": [
        "\n",
        "#h2 = dimm(Kn) = dimm L2,  Dimm h3 = PCA Analysis of all Kn\n",
        "input2 = tf.keras.Input(shape=(h2,))\n",
        "hidden2 = Dense(h2, activation='relu')(input2)\n",
        "output2 = Dense(h3, activation='softmax')(hidden2)\n",
        "\n",
        "MLP2 = tf.keras.Model(input2, output2)\n",
        "\n",
        "MLP2.compile(loss='CategoricalCrossentropy', optimizer='adam', metrics=['accuracy'])\n",
        "history3=MLP2.fit(Zn_train_pca, trueOUT_train, epochs=50, batch_size=100, verbose=1, validation_data = (Zn_test_pca, trueOUT_test)) # validation_split=0.2"
      ]
    },
    {
      "cell_type": "markdown",
      "metadata": {
        "id": "45Ojt6lZW88B"
      },
      "source": [
        "#Q6"
      ]
    },
    {
      "cell_type": "code",
      "execution_count": null,
      "metadata": {
        "colab": {
          "background_save": true
        },
        "id": "mf-ReIGrY5oA"
      },
      "outputs": [],
      "source": [
        ""
      ]
    }
  ],
  "metadata": {
    "accelerator": "TPU",
    "colab": {
      "collapsed_sections": [],
      "name": "Garza_Saenz_Thomas_HW2_2022.ipynb",
      "provenance": []
    },
    "kernelspec": {
      "display_name": "Python 3",
      "name": "python3"
    },
    "language_info": {
      "name": "python"
    }
  },
  "nbformat": 4,
  "nbformat_minor": 0
}